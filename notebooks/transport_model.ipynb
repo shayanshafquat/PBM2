{
 "cells": [
  {
   "cell_type": "code",
   "execution_count": 1,
   "metadata": {},
   "outputs": [],
   "source": [
    "import numpy as np\n",
    "from scipy.integrate import odeint\n",
    "import matplotlib.pyplot as plt\n",
    "import pandas as pd\n",
    "import os"
   ]
  },
  {
   "cell_type": "code",
   "execution_count": 12,
   "metadata": {},
   "outputs": [
    {
     "name": "stdout",
     "output_type": "stream",
     "text": [
      "budapest_connectome_3.0_209_0_median.csv\n",
      "budapest_connectome_3.0_209_0_median.graphml\n",
      "budapest_connectome_3.0_209_0_median_fc.csv\n",
      "graph_data_1.csv\n",
      "graph_data_ec.csv\n",
      "graph_data_ec_1.csv\n",
      "graph_data_ec_2.csv\n",
      "graph_data_fc.csv\n"
     ]
    }
   ],
   "source": [
    "!ls data"
   ]
  },
  {
   "cell_type": "code",
   "execution_count": 13,
   "metadata": {},
   "outputs": [],
   "source": [
    "# Load the data from the provided CSV file\n",
    "# current_dir = \n",
    "count_file_path = f'data/budapest_connectome_3.0_209_0_median_fc.csv'\n",
    "length_file_path = f'data/budapest_connectome_3.0_209_0_median.csv'\n",
    "\n",
    "df_count = pd.read_csv(count_file_path, delimiter=';')\n",
    "df_len = pd.read_csv(length_file_path, delimiter=';')"
   ]
  },
  {
   "cell_type": "code",
   "execution_count": 14,
   "metadata": {},
   "outputs": [
    {
     "data": {
      "text/html": [
       "<div>\n",
       "<style scoped>\n",
       "    .dataframe tbody tr th:only-of-type {\n",
       "        vertical-align: middle;\n",
       "    }\n",
       "\n",
       "    .dataframe tbody tr th {\n",
       "        vertical-align: top;\n",
       "    }\n",
       "\n",
       "    .dataframe thead th {\n",
       "        text-align: right;\n",
       "    }\n",
       "</style>\n",
       "<table border=\"1\" class=\"dataframe\">\n",
       "  <thead>\n",
       "    <tr style=\"text-align: right;\">\n",
       "      <th></th>\n",
       "      <th>id node1</th>\n",
       "      <th>id node2</th>\n",
       "      <th>name node1</th>\n",
       "      <th>name node2</th>\n",
       "      <th>parent id node1</th>\n",
       "      <th>parent id node2</th>\n",
       "      <th>parent name node1</th>\n",
       "      <th>parent name node2</th>\n",
       "      <th>edge confidence</th>\n",
       "      <th>edge weight(med nof)</th>\n",
       "    </tr>\n",
       "  </thead>\n",
       "  <tbody>\n",
       "    <tr>\n",
       "      <th>0</th>\n",
       "      <td>127</td>\n",
       "      <td>504</td>\n",
       "      <td>rh.caudalmiddlefrontal_11</td>\n",
       "      <td>Right-Putamen</td>\n",
       "      <td>9</td>\n",
       "      <td>37</td>\n",
       "      <td>ctx-rh-caudalmiddlefrontal</td>\n",
       "      <td>Right-Putamen</td>\n",
       "      <td>411</td>\n",
       "      <td>25.0</td>\n",
       "    </tr>\n",
       "    <tr>\n",
       "      <th>1</th>\n",
       "      <td>127</td>\n",
       "      <td>145</td>\n",
       "      <td>rh.caudalmiddlefrontal_11</td>\n",
       "      <td>rh.precentral_19</td>\n",
       "      <td>9</td>\n",
       "      <td>10</td>\n",
       "      <td>ctx-rh-caudalmiddlefrontal</td>\n",
       "      <td>ctx-rh-precentral</td>\n",
       "      <td>294</td>\n",
       "      <td>5.0</td>\n",
       "    </tr>\n",
       "    <tr>\n",
       "      <th>2</th>\n",
       "      <td>127</td>\n",
       "      <td>131</td>\n",
       "      <td>rh.caudalmiddlefrontal_11</td>\n",
       "      <td>rh.caudalmiddlefrontal_6</td>\n",
       "      <td>9</td>\n",
       "      <td>9</td>\n",
       "      <td>ctx-rh-caudalmiddlefrontal</td>\n",
       "      <td>ctx-rh-caudalmiddlefrontal</td>\n",
       "      <td>327</td>\n",
       "      <td>8.0</td>\n",
       "    </tr>\n",
       "    <tr>\n",
       "      <th>3</th>\n",
       "      <td>127</td>\n",
       "      <td>494</td>\n",
       "      <td>rh.caudalmiddlefrontal_11</td>\n",
       "      <td>rh.insula_10</td>\n",
       "      <td>9</td>\n",
       "      <td>34</td>\n",
       "      <td>ctx-rh-caudalmiddlefrontal</td>\n",
       "      <td>ctx-rh-insula</td>\n",
       "      <td>328</td>\n",
       "      <td>6.0</td>\n",
       "    </tr>\n",
       "    <tr>\n",
       "      <th>4</th>\n",
       "      <td>127</td>\n",
       "      <td>189</td>\n",
       "      <td>rh.caudalmiddlefrontal_11</td>\n",
       "      <td>rh.caudalanteriorcingulate_5</td>\n",
       "      <td>9</td>\n",
       "      <td>13</td>\n",
       "      <td>ctx-rh-caudalmiddlefrontal</td>\n",
       "      <td>ctx-rh-caudalanteriorcingulate</td>\n",
       "      <td>217</td>\n",
       "      <td>3.0</td>\n",
       "    </tr>\n",
       "  </tbody>\n",
       "</table>\n",
       "</div>"
      ],
      "text/plain": [
       "   id node1  id node2                 name node1  \\\n",
       "0       127       504  rh.caudalmiddlefrontal_11   \n",
       "1       127       145  rh.caudalmiddlefrontal_11   \n",
       "2       127       131  rh.caudalmiddlefrontal_11   \n",
       "3       127       494  rh.caudalmiddlefrontal_11   \n",
       "4       127       189  rh.caudalmiddlefrontal_11   \n",
       "\n",
       "                     name node2  parent id node1  parent id node2  \\\n",
       "0                 Right-Putamen                9               37   \n",
       "1              rh.precentral_19                9               10   \n",
       "2      rh.caudalmiddlefrontal_6                9                9   \n",
       "3                  rh.insula_10                9               34   \n",
       "4  rh.caudalanteriorcingulate_5                9               13   \n",
       "\n",
       "            parent name node1               parent name node2  \\\n",
       "0  ctx-rh-caudalmiddlefrontal                   Right-Putamen   \n",
       "1  ctx-rh-caudalmiddlefrontal               ctx-rh-precentral   \n",
       "2  ctx-rh-caudalmiddlefrontal      ctx-rh-caudalmiddlefrontal   \n",
       "3  ctx-rh-caudalmiddlefrontal                   ctx-rh-insula   \n",
       "4  ctx-rh-caudalmiddlefrontal  ctx-rh-caudalanteriorcingulate   \n",
       "\n",
       "   edge confidence  edge weight(med nof)  \n",
       "0              411                  25.0  \n",
       "1              294                   5.0  \n",
       "2              327                   8.0  \n",
       "3              328                   6.0  \n",
       "4              217                   3.0  "
      ]
     },
     "execution_count": 14,
     "metadata": {},
     "output_type": "execute_result"
    }
   ],
   "source": [
    "df_count.head()"
   ]
  },
  {
   "cell_type": "code",
   "execution_count": 15,
   "metadata": {},
   "outputs": [
    {
     "data": {
      "text/html": [
       "<div>\n",
       "<style scoped>\n",
       "    .dataframe tbody tr th:only-of-type {\n",
       "        vertical-align: middle;\n",
       "    }\n",
       "\n",
       "    .dataframe tbody tr th {\n",
       "        vertical-align: top;\n",
       "    }\n",
       "\n",
       "    .dataframe thead th {\n",
       "        text-align: right;\n",
       "    }\n",
       "</style>\n",
       "<table border=\"1\" class=\"dataframe\">\n",
       "  <thead>\n",
       "    <tr style=\"text-align: right;\">\n",
       "      <th></th>\n",
       "      <th>id node1</th>\n",
       "      <th>id node2</th>\n",
       "      <th>name node1</th>\n",
       "      <th>name node2</th>\n",
       "      <th>parent id node1</th>\n",
       "      <th>parent id node2</th>\n",
       "      <th>parent name node1</th>\n",
       "      <th>parent name node2</th>\n",
       "      <th>edge confidence</th>\n",
       "      <th>edge weight(med flm)</th>\n",
       "    </tr>\n",
       "  </thead>\n",
       "  <tbody>\n",
       "    <tr>\n",
       "      <th>0</th>\n",
       "      <td>127</td>\n",
       "      <td>504</td>\n",
       "      <td>rh.caudalmiddlefrontal_11</td>\n",
       "      <td>Right-Putamen</td>\n",
       "      <td>9</td>\n",
       "      <td>37</td>\n",
       "      <td>ctx-rh-caudalmiddlefrontal</td>\n",
       "      <td>Right-Putamen</td>\n",
       "      <td>411</td>\n",
       "      <td>22.239342</td>\n",
       "    </tr>\n",
       "    <tr>\n",
       "      <th>1</th>\n",
       "      <td>127</td>\n",
       "      <td>145</td>\n",
       "      <td>rh.caudalmiddlefrontal_11</td>\n",
       "      <td>rh.precentral_19</td>\n",
       "      <td>9</td>\n",
       "      <td>10</td>\n",
       "      <td>ctx-rh-caudalmiddlefrontal</td>\n",
       "      <td>ctx-rh-precentral</td>\n",
       "      <td>294</td>\n",
       "      <td>18.400002</td>\n",
       "    </tr>\n",
       "    <tr>\n",
       "      <th>2</th>\n",
       "      <td>127</td>\n",
       "      <td>131</td>\n",
       "      <td>rh.caudalmiddlefrontal_11</td>\n",
       "      <td>rh.caudalmiddlefrontal_6</td>\n",
       "      <td>9</td>\n",
       "      <td>9</td>\n",
       "      <td>ctx-rh-caudalmiddlefrontal</td>\n",
       "      <td>ctx-rh-caudalmiddlefrontal</td>\n",
       "      <td>327</td>\n",
       "      <td>18.400001</td>\n",
       "    </tr>\n",
       "    <tr>\n",
       "      <th>3</th>\n",
       "      <td>127</td>\n",
       "      <td>494</td>\n",
       "      <td>rh.caudalmiddlefrontal_11</td>\n",
       "      <td>rh.insula_10</td>\n",
       "      <td>9</td>\n",
       "      <td>34</td>\n",
       "      <td>ctx-rh-caudalmiddlefrontal</td>\n",
       "      <td>ctx-rh-insula</td>\n",
       "      <td>328</td>\n",
       "      <td>17.400008</td>\n",
       "    </tr>\n",
       "    <tr>\n",
       "      <th>4</th>\n",
       "      <td>127</td>\n",
       "      <td>189</td>\n",
       "      <td>rh.caudalmiddlefrontal_11</td>\n",
       "      <td>rh.caudalanteriorcingulate_5</td>\n",
       "      <td>9</td>\n",
       "      <td>13</td>\n",
       "      <td>ctx-rh-caudalmiddlefrontal</td>\n",
       "      <td>ctx-rh-caudalanteriorcingulate</td>\n",
       "      <td>217</td>\n",
       "      <td>22.000011</td>\n",
       "    </tr>\n",
       "  </tbody>\n",
       "</table>\n",
       "</div>"
      ],
      "text/plain": [
       "   id node1  id node2                 name node1  \\\n",
       "0       127       504  rh.caudalmiddlefrontal_11   \n",
       "1       127       145  rh.caudalmiddlefrontal_11   \n",
       "2       127       131  rh.caudalmiddlefrontal_11   \n",
       "3       127       494  rh.caudalmiddlefrontal_11   \n",
       "4       127       189  rh.caudalmiddlefrontal_11   \n",
       "\n",
       "                     name node2  parent id node1  parent id node2  \\\n",
       "0                 Right-Putamen                9               37   \n",
       "1              rh.precentral_19                9               10   \n",
       "2      rh.caudalmiddlefrontal_6                9                9   \n",
       "3                  rh.insula_10                9               34   \n",
       "4  rh.caudalanteriorcingulate_5                9               13   \n",
       "\n",
       "            parent name node1               parent name node2  \\\n",
       "0  ctx-rh-caudalmiddlefrontal                   Right-Putamen   \n",
       "1  ctx-rh-caudalmiddlefrontal               ctx-rh-precentral   \n",
       "2  ctx-rh-caudalmiddlefrontal      ctx-rh-caudalmiddlefrontal   \n",
       "3  ctx-rh-caudalmiddlefrontal                   ctx-rh-insula   \n",
       "4  ctx-rh-caudalmiddlefrontal  ctx-rh-caudalanteriorcingulate   \n",
       "\n",
       "   edge confidence  edge weight(med flm)  \n",
       "0              411             22.239342  \n",
       "1              294             18.400002  \n",
       "2              327             18.400001  \n",
       "3              328             17.400008  \n",
       "4              217             22.000011  "
      ]
     },
     "execution_count": 15,
     "metadata": {},
     "output_type": "execute_result"
    }
   ],
   "source": [
    "df_len.head()"
   ]
  },
  {
   "cell_type": "code",
   "execution_count": 18,
   "metadata": {},
   "outputs": [
    {
     "data": {
      "text/html": [
       "<div>\n",
       "<style scoped>\n",
       "    .dataframe tbody tr th:only-of-type {\n",
       "        vertical-align: middle;\n",
       "    }\n",
       "\n",
       "    .dataframe tbody tr th {\n",
       "        vertical-align: top;\n",
       "    }\n",
       "\n",
       "    .dataframe thead th {\n",
       "        text-align: right;\n",
       "    }\n",
       "</style>\n",
       "<table border=\"1\" class=\"dataframe\">\n",
       "  <thead>\n",
       "    <tr style=\"text-align: right;\">\n",
       "      <th></th>\n",
       "      <th>node1</th>\n",
       "      <th>node2</th>\n",
       "      <th>fiber_count</th>\n",
       "      <th>fiber_length</th>\n",
       "    </tr>\n",
       "  </thead>\n",
       "  <tbody>\n",
       "    <tr>\n",
       "      <th>0</th>\n",
       "      <td>9</td>\n",
       "      <td>37</td>\n",
       "      <td>25.0</td>\n",
       "      <td>22.239342</td>\n",
       "    </tr>\n",
       "    <tr>\n",
       "      <th>1</th>\n",
       "      <td>9</td>\n",
       "      <td>37</td>\n",
       "      <td>25.0</td>\n",
       "      <td>26.385718</td>\n",
       "    </tr>\n",
       "    <tr>\n",
       "      <th>2</th>\n",
       "      <td>9</td>\n",
       "      <td>37</td>\n",
       "      <td>25.0</td>\n",
       "      <td>36.416003</td>\n",
       "    </tr>\n",
       "    <tr>\n",
       "      <th>3</th>\n",
       "      <td>9</td>\n",
       "      <td>37</td>\n",
       "      <td>25.0</td>\n",
       "      <td>32.376669</td>\n",
       "    </tr>\n",
       "    <tr>\n",
       "      <th>4</th>\n",
       "      <td>9</td>\n",
       "      <td>37</td>\n",
       "      <td>25.0</td>\n",
       "      <td>27.144929</td>\n",
       "    </tr>\n",
       "  </tbody>\n",
       "</table>\n",
       "</div>"
      ],
      "text/plain": [
       "   node1  node2  fiber_count  fiber_length\n",
       "0      9     37         25.0     22.239342\n",
       "1      9     37         25.0     26.385718\n",
       "2      9     37         25.0     36.416003\n",
       "3      9     37         25.0     32.376669\n",
       "4      9     37         25.0     27.144929"
      ]
     },
     "execution_count": 18,
     "metadata": {},
     "output_type": "execute_result"
    }
   ],
   "source": [
    "df_merged = pd.merge(df_count, df_len, how='inner',\n",
    "                     left_on=['parent id node1', 'parent id node2'],\n",
    "                     right_on=['parent id node1', 'parent id node2'])\n",
    "\n",
    "df_merged = df_merged[['parent id node1', 'parent id node2', 'edge weight(med nof)', 'edge weight(med flm)']]\n",
    "df_merged = df_merged.rename(columns={'parent id node1':'node1', 'parent id node2':'node2', 'edge weight(med nof)':'fiber_count', 'edge weight(med flm)':'fiber_length'})\n",
    "df_merged.head()"
   ]
  },
  {
   "cell_type": "code",
   "execution_count": 19,
   "metadata": {},
   "outputs": [
    {
     "data": {
      "text/plain": [
       "83"
      ]
     },
     "execution_count": 19,
     "metadata": {},
     "output_type": "execute_result"
    }
   ],
   "source": [
    "l = df_merged[\"node1\"].astype('int')\n",
    "max(l)"
   ]
  },
  {
   "cell_type": "code",
   "execution_count": 20,
   "metadata": {},
   "outputs": [
    {
     "name": "stdout",
     "output_type": "stream",
     "text": [
      "# nodes:76, # edges:11288\n"
     ]
    }
   ],
   "source": [
    "# Extract the necessary information\n",
    "nodes = np.union1d(df_merged['node1'].values, df_merged['node2'].values)\n",
    "num_nodes = len(nodes)\n",
    "edges = list(zip(df_merged['node1'], df_merged['node2']))\n",
    "\n",
    "print(f\"# nodes:{num_nodes}, # edges:{len(edges)}\")"
   ]
  },
  {
   "cell_type": "code",
   "execution_count": 22,
   "metadata": {},
   "outputs": [
    {
     "data": {
      "image/png": "[encoded data removed]",
      "text/plain": [
       "<Figure size 800x600 with 2 Axes>"
      ]
     },
     "metadata": {},
     "output_type": "display_data"
    }
   ],
   "source": [
    "# Create a mapping from node ID to index\n",
    "node_to_index = {node_id: index for index, node_id in enumerate(nodes)}\n",
    "\n",
    "w_kj = np.zeros((num_nodes, num_nodes))\n",
    "        \n",
    "\n",
    "for _, row in df_merged.iterrows():\n",
    "    idx1 = node_to_index[row['node1']]\n",
    "    idx2 = node_to_index[row['node2']]\n",
    "    weight = row['fiber_count']/row['fiber_length']\n",
    "    w_kj[idx1, idx2] = weight\n",
    "    w_kj[idx2, idx1] = weight\n",
    "\n",
    "# Plotting the heatmap\n",
    "plt.figure(figsize=(8, 6))\n",
    "heatmap = plt.imshow(w_kj, cmap='turbo')\n",
    "plt.colorbar(heatmap)\n",
    "plt.title('Heatmap of weight matrix w_kj')\n",
    "plt.xlabel('Node index j')\n",
    "plt.ylabel('Node index k')\n",
    "plt.show()"
   ]
  },
  {
   "cell_type": "markdown",
   "metadata": {},
   "source": [
    "## Resting state dynamics"
   ]
  },
  {
   "cell_type": "code",
   "execution_count": 6,
   "metadata": {},
   "outputs": [
    {
     "name": "stdout",
     "output_type": "stream",
     "text": [
      "budapest_connectome_3.0_209_0_median.csv\n",
      "budapest_connectome_3.0_209_0_median.graphml\n",
      "graph_data_1.csv\n",
      "graph_data_ec.csv\n",
      "graph_data_ec_1.csv\n",
      "graph_data_ec_2.csv\n",
      "graph_data_fc.csv\n"
     ]
    }
   ],
   "source": [
    "! ls data"
   ]
  },
  {
   "cell_type": "code",
   "execution_count": 8,
   "metadata": {},
   "outputs": [
    {
     "data": {
      "text/html": [
       "<div>\n",
       "<style scoped>\n",
       "    .dataframe tbody tr th:only-of-type {\n",
       "        vertical-align: middle;\n",
       "    }\n",
       "\n",
       "    .dataframe tbody tr th {\n",
       "        vertical-align: top;\n",
       "    }\n",
       "\n",
       "    .dataframe thead th {\n",
       "        text-align: right;\n",
       "    }\n",
       "</style>\n",
       "<table border=\"1\" class=\"dataframe\">\n",
       "  <thead>\n",
       "    <tr style=\"text-align: right;\">\n",
       "      <th></th>\n",
       "      <th>id node1</th>\n",
       "      <th>id node2</th>\n",
       "      <th>name node1</th>\n",
       "      <th>name node2</th>\n",
       "      <th>parent id node1</th>\n",
       "      <th>parent id node2</th>\n",
       "      <th>parent name node1</th>\n",
       "      <th>parent name node2</th>\n",
       "      <th>edge confidence</th>\n",
       "      <th>edge weight(med flm)</th>\n",
       "    </tr>\n",
       "  </thead>\n",
       "  <tbody>\n",
       "    <tr>\n",
       "      <th>0</th>\n",
       "      <td>127</td>\n",
       "      <td>504</td>\n",
       "      <td>rh.caudalmiddlefrontal_11</td>\n",
       "      <td>Right-Putamen</td>\n",
       "      <td>9</td>\n",
       "      <td>37</td>\n",
       "      <td>ctx-rh-caudalmiddlefrontal</td>\n",
       "      <td>Right-Putamen</td>\n",
       "      <td>411</td>\n",
       "      <td>22.239342</td>\n",
       "    </tr>\n",
       "    <tr>\n",
       "      <th>1</th>\n",
       "      <td>127</td>\n",
       "      <td>145</td>\n",
       "      <td>rh.caudalmiddlefrontal_11</td>\n",
       "      <td>rh.precentral_19</td>\n",
       "      <td>9</td>\n",
       "      <td>10</td>\n",
       "      <td>ctx-rh-caudalmiddlefrontal</td>\n",
       "      <td>ctx-rh-precentral</td>\n",
       "      <td>294</td>\n",
       "      <td>18.400002</td>\n",
       "    </tr>\n",
       "    <tr>\n",
       "      <th>2</th>\n",
       "      <td>127</td>\n",
       "      <td>131</td>\n",
       "      <td>rh.caudalmiddlefrontal_11</td>\n",
       "      <td>rh.caudalmiddlefrontal_6</td>\n",
       "      <td>9</td>\n",
       "      <td>9</td>\n",
       "      <td>ctx-rh-caudalmiddlefrontal</td>\n",
       "      <td>ctx-rh-caudalmiddlefrontal</td>\n",
       "      <td>327</td>\n",
       "      <td>18.400001</td>\n",
       "    </tr>\n",
       "    <tr>\n",
       "      <th>3</th>\n",
       "      <td>127</td>\n",
       "      <td>494</td>\n",
       "      <td>rh.caudalmiddlefrontal_11</td>\n",
       "      <td>rh.insula_10</td>\n",
       "      <td>9</td>\n",
       "      <td>34</td>\n",
       "      <td>ctx-rh-caudalmiddlefrontal</td>\n",
       "      <td>ctx-rh-insula</td>\n",
       "      <td>328</td>\n",
       "      <td>17.400008</td>\n",
       "    </tr>\n",
       "    <tr>\n",
       "      <th>4</th>\n",
       "      <td>127</td>\n",
       "      <td>189</td>\n",
       "      <td>rh.caudalmiddlefrontal_11</td>\n",
       "      <td>rh.caudalanteriorcingulate_5</td>\n",
       "      <td>9</td>\n",
       "      <td>13</td>\n",
       "      <td>ctx-rh-caudalmiddlefrontal</td>\n",
       "      <td>ctx-rh-caudalanteriorcingulate</td>\n",
       "      <td>217</td>\n",
       "      <td>22.000011</td>\n",
       "    </tr>\n",
       "  </tbody>\n",
       "</table>\n",
       "</div>"
      ],
      "text/plain": [
       "   id node1  id node2                 name node1  \\\n",
       "0       127       504  rh.caudalmiddlefrontal_11   \n",
       "1       127       145  rh.caudalmiddlefrontal_11   \n",
       "2       127       131  rh.caudalmiddlefrontal_11   \n",
       "3       127       494  rh.caudalmiddlefrontal_11   \n",
       "4       127       189  rh.caudalmiddlefrontal_11   \n",
       "\n",
       "                     name node2  parent id node1  parent id node2  \\\n",
       "0                 Right-Putamen                9               37   \n",
       "1              rh.precentral_19                9               10   \n",
       "2      rh.caudalmiddlefrontal_6                9                9   \n",
       "3                  rh.insula_10                9               34   \n",
       "4  rh.caudalanteriorcingulate_5                9               13   \n",
       "\n",
       "            parent name node1               parent name node2  \\\n",
       "0  ctx-rh-caudalmiddlefrontal                   Right-Putamen   \n",
       "1  ctx-rh-caudalmiddlefrontal               ctx-rh-precentral   \n",
       "2  ctx-rh-caudalmiddlefrontal      ctx-rh-caudalmiddlefrontal   \n",
       "3  ctx-rh-caudalmiddlefrontal                   ctx-rh-insula   \n",
       "4  ctx-rh-caudalmiddlefrontal  ctx-rh-caudalanteriorcingulate   \n",
       "\n",
       "   edge confidence  edge weight(med flm)  \n",
       "0              411             22.239342  \n",
       "1              294             18.400002  \n",
       "2              327             18.400001  \n",
       "3              328             17.400008  \n",
       "4              217             22.000011  "
      ]
     },
     "execution_count": 8,
     "metadata": {},
     "output_type": "execute_result"
    }
   ],
   "source": [
    "file_path = f'data/budapest_connectome_3.0_209_0_median.csv'\n",
    "data = pd.read_csv(file_path, delimiter=';')\n",
    "data.head()"
   ]
  },
  {
   "cell_type": "code",
   "execution_count": 10,
   "metadata": {},
   "outputs": [
    {
     "name": "stdout",
     "output_type": "stream",
     "text": [
      "76 1000\n"
     ]
    }
   ],
   "source": [
    "# Extract the necessary information\n",
    "nodes = np.union1d(data['parent id node1'].values, data['parent id node2'].values)\n",
    "num_nodes = len(nodes)\n",
    "edges = list(zip(data['parent id node1'], data['parent id node2']))\n",
    "print(num_nodes, len(edges))\n",
    "\n",
    "w_kj = np.zeros((num_nodes, num_nodes))\n",
    "\n",
    "# Create a mapping from node ID to index\n",
    "node_to_index = {node_id: index for index, node_id in enumerate(nodes)}\n",
    "\n",
    "for _, row in data.iterrows():\n",
    "    idx1 = node_to_index[row['parent id node1']]\n",
    "    idx2 = node_to_index[row['parent id node2']]\n",
    "    weight = row['edge weight(med flm)']\n",
    "    w_kj[idx1, idx2] = weight\n",
    "    w_kj[idx2, idx1] = weight"
   ]
  },
  {
   "cell_type": "code",
   "execution_count": 11,
   "metadata": {},
   "outputs": [
    {
     "data": {
      "image/png": "[encoded data removed]",
      "text/plain": [
       "<Figure size 800x600 with 2 Axes>"
      ]
     },
     "metadata": {},
     "output_type": "display_data"
    }
   ],
   "source": [
    "# Plotting the heatmap\n",
    "plt.figure(figsize=(8, 6))\n",
    "heatmap = plt.imshow(w_kj, cmap='turbo')\n",
    "plt.colorbar(heatmap)\n",
    "plt.title('Heatmap of weight matrix w_kj')\n",
    "plt.xlabel('Node index j')\n",
    "plt.ylabel('Node index k')\n",
    "plt.show()"
   ]
  },
  {
   "cell_type": "code",
   "execution_count": null,
   "metadata": {},
   "outputs": [],
   "source": []
  }
 ],
 "metadata": {
  "kernelspec": {
   "display_name": "my_adc",
   "language": "python",
   "name": "python3"
  },
  "language_info": {
   "codemirror_mode": {
    "name": "ipython",
    "version": 3
   },
   "file_extension": ".py",
   "mimetype": "text/x-python",
   "name": "python",
   "nbconvert_exporter": "python",
   "pygments_lexer": "ipython3",
   "version": "3.9.18"
  }
 },
 "nbformat": 4,
 "nbformat_minor": 2
}
