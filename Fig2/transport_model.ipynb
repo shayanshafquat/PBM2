{
 "cells": [
  {
   "cell_type": "code",
   "execution_count": 2,
   "metadata": {},
   "outputs": [],
   "source": [
    "import numpy as np\n",
    "from scipy.integrate import odeint\n",
    "import matplotlib.pyplot as plt\n",
    "import pandas as pd\n",
    "import os"
   ]
  },
  {
   "cell_type": "code",
   "execution_count": 80,
   "metadata": {},
   "outputs": [],
   "source": [
    "# Load the data from the provided CSV file\n",
    "# current_dir = \n",
    "file_path = 'data/graph_data.csv'\n",
    "data = pd.read_csv(file_path, delimiter=';')"
   ]
  },
  {
   "cell_type": "code",
   "execution_count": 81,
   "metadata": {},
   "outputs": [
    {
     "data": {
      "text/html": [
       "<div>\n",
       "<style scoped>\n",
       "    .dataframe tbody tr th:only-of-type {\n",
       "        vertical-align: middle;\n",
       "    }\n",
       "\n",
       "    .dataframe tbody tr th {\n",
       "        vertical-align: top;\n",
       "    }\n",
       "\n",
       "    .dataframe thead th {\n",
       "        text-align: right;\n",
       "    }\n",
       "</style>\n",
       "<table border=\"1\" class=\"dataframe\">\n",
       "  <thead>\n",
       "    <tr style=\"text-align: right;\">\n",
       "      <th></th>\n",
       "      <th>id node1</th>\n",
       "      <th>id node2</th>\n",
       "      <th>name node1</th>\n",
       "      <th>name node2</th>\n",
       "      <th>parent id node1</th>\n",
       "      <th>parent id node2</th>\n",
       "      <th>parent name node1</th>\n",
       "      <th>parent name node2</th>\n",
       "      <th>edge confidence</th>\n",
       "      <th>edge weight(med nof)</th>\n",
       "    </tr>\n",
       "  </thead>\n",
       "  <tbody>\n",
       "    <tr>\n",
       "      <th>0</th>\n",
       "      <td>127</td>\n",
       "      <td>504</td>\n",
       "      <td>rh.caudalmiddlefrontal_11</td>\n",
       "      <td>Right-Putamen</td>\n",
       "      <td>9</td>\n",
       "      <td>37</td>\n",
       "      <td>ctx-rh-caudalmiddlefrontal</td>\n",
       "      <td>Right-Putamen</td>\n",
       "      <td>411</td>\n",
       "      <td>25.0</td>\n",
       "    </tr>\n",
       "    <tr>\n",
       "      <th>1</th>\n",
       "      <td>127</td>\n",
       "      <td>145</td>\n",
       "      <td>rh.caudalmiddlefrontal_11</td>\n",
       "      <td>rh.precentral_19</td>\n",
       "      <td>9</td>\n",
       "      <td>10</td>\n",
       "      <td>ctx-rh-caudalmiddlefrontal</td>\n",
       "      <td>ctx-rh-precentral</td>\n",
       "      <td>294</td>\n",
       "      <td>5.0</td>\n",
       "    </tr>\n",
       "    <tr>\n",
       "      <th>2</th>\n",
       "      <td>127</td>\n",
       "      <td>131</td>\n",
       "      <td>rh.caudalmiddlefrontal_11</td>\n",
       "      <td>rh.caudalmiddlefrontal_6</td>\n",
       "      <td>9</td>\n",
       "      <td>9</td>\n",
       "      <td>ctx-rh-caudalmiddlefrontal</td>\n",
       "      <td>ctx-rh-caudalmiddlefrontal</td>\n",
       "      <td>327</td>\n",
       "      <td>8.0</td>\n",
       "    </tr>\n",
       "    <tr>\n",
       "      <th>3</th>\n",
       "      <td>127</td>\n",
       "      <td>494</td>\n",
       "      <td>rh.caudalmiddlefrontal_11</td>\n",
       "      <td>rh.insula_10</td>\n",
       "      <td>9</td>\n",
       "      <td>34</td>\n",
       "      <td>ctx-rh-caudalmiddlefrontal</td>\n",
       "      <td>ctx-rh-insula</td>\n",
       "      <td>328</td>\n",
       "      <td>6.0</td>\n",
       "    </tr>\n",
       "    <tr>\n",
       "      <th>4</th>\n",
       "      <td>127</td>\n",
       "      <td>189</td>\n",
       "      <td>rh.caudalmiddlefrontal_11</td>\n",
       "      <td>rh.caudalanteriorcingulate_5</td>\n",
       "      <td>9</td>\n",
       "      <td>13</td>\n",
       "      <td>ctx-rh-caudalmiddlefrontal</td>\n",
       "      <td>ctx-rh-caudalanteriorcingulate</td>\n",
       "      <td>217</td>\n",
       "      <td>3.0</td>\n",
       "    </tr>\n",
       "  </tbody>\n",
       "</table>\n",
       "</div>"
      ],
      "text/plain": [
       "   id node1  id node2                 name node1  \\\n",
       "0       127       504  rh.caudalmiddlefrontal_11   \n",
       "1       127       145  rh.caudalmiddlefrontal_11   \n",
       "2       127       131  rh.caudalmiddlefrontal_11   \n",
       "3       127       494  rh.caudalmiddlefrontal_11   \n",
       "4       127       189  rh.caudalmiddlefrontal_11   \n",
       "\n",
       "                     name node2  parent id node1  parent id node2  \\\n",
       "0                 Right-Putamen                9               37   \n",
       "1              rh.precentral_19                9               10   \n",
       "2      rh.caudalmiddlefrontal_6                9                9   \n",
       "3                  rh.insula_10                9               34   \n",
       "4  rh.caudalanteriorcingulate_5                9               13   \n",
       "\n",
       "            parent name node1               parent name node2  \\\n",
       "0  ctx-rh-caudalmiddlefrontal                   Right-Putamen   \n",
       "1  ctx-rh-caudalmiddlefrontal               ctx-rh-precentral   \n",
       "2  ctx-rh-caudalmiddlefrontal      ctx-rh-caudalmiddlefrontal   \n",
       "3  ctx-rh-caudalmiddlefrontal                   ctx-rh-insula   \n",
       "4  ctx-rh-caudalmiddlefrontal  ctx-rh-caudalanteriorcingulate   \n",
       "\n",
       "   edge confidence  edge weight(med nof)  \n",
       "0              411                  25.0  \n",
       "1              294                   5.0  \n",
       "2              327                   8.0  \n",
       "3              328                   6.0  \n",
       "4              217                   3.0  "
      ]
     },
     "execution_count": 81,
     "metadata": {},
     "output_type": "execute_result"
    }
   ],
   "source": [
    "data.head(5)"
   ]
  },
  {
   "cell_type": "code",
   "execution_count": 77,
   "metadata": {},
   "outputs": [
    {
     "data": {
      "text/plain": [
       "83"
      ]
     },
     "execution_count": 77,
     "metadata": {},
     "output_type": "execute_result"
    }
   ],
   "source": [
    "l = data[\"parent id node1\"].astype('int')\n",
    "max(l)"
   ]
  },
  {
   "cell_type": "code",
   "execution_count": 82,
   "metadata": {},
   "outputs": [
    {
     "name": "stdout",
     "output_type": "stream",
     "text": [
      "# nodes:480, # edges:1000\n"
     ]
    }
   ],
   "source": [
    "# Extract the necessary information\n",
    "nodes = np.union1d(data['id node1'].values, data['id node2'].values)\n",
    "num_nodes = len(nodes)\n",
    "edges = list(zip(data['id node1'], data['id node2']))\n",
    "\n",
    "print(f\"# nodes:{num_nodes}, # edges:{len(edges)}\")"
   ]
  },
  {
   "cell_type": "code",
   "execution_count": 85,
   "metadata": {},
   "outputs": [
    {
     "data": {
      "image/png": "[encoded data removed]",
      "text/plain": [
       "<Figure size 800x600 with 2 Axes>"
      ]
     },
     "metadata": {},
     "output_type": "display_data"
    }
   ],
   "source": [
    "# Create a mapping from node ID to index\n",
    "node_to_index = {node_id: index for index, node_id in enumerate(nodes)}\n",
    "\n",
    "w_kj = np.zeros((num_nodes, num_nodes))\n",
    "        \n",
    "\n",
    "for _, row in data.iterrows():\n",
    "    idx1 = node_to_index[row['id node1']]\n",
    "    idx2 = node_to_index[row['id node2']]\n",
    "    weight = row['edge weight(med nof)']\n",
    "    w_kj[idx1, idx2] = weight\n",
    "    w_kj[idx2, idx1] = weight\n",
    "\n",
    "# Plotting the heatmap\n",
    "plt.figure(figsize=(8, 6))\n",
    "heatmap = plt.imshow(w_kj, cmap='turbo')\n",
    "plt.colorbar(heatmap)\n",
    "plt.title('Heatmap of weight matrix w_kj')\n",
    "plt.xlabel('Node index j')\n",
    "plt.ylabel('Node index k')\n",
    "plt.show()"
   ]
  },
  {
   "cell_type": "code",
   "execution_count": null,
   "metadata": {},
   "outputs": [],
   "source": []
  }
 ],
 "metadata": {
  "kernelspec": {
   "display_name": "my_adc",
   "language": "python",
   "name": "python3"
  },
  "language_info": {
   "codemirror_mode": {
    "name": "ipython",
    "version": 3
   },
   "file_extension": ".py",
   "mimetype": "text/x-python",
   "name": "python",
   "nbconvert_exporter": "python",
   "pygments_lexer": "ipython3",
   "version": "3.9.18"
  }
 },
 "nbformat": 4,
 "nbformat_minor": 2
}
