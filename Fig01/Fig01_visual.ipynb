{
 "cells": [
  {
   "cell_type": "code",
   "execution_count": 1,
   "metadata": {},
   "outputs": [
    {
     "name": "stdout",
     "output_type": "stream",
     "text": [
      "nodes: 1015\n",
      "regions: 1015\n",
      "regions_name_all: 1015\n",
      "regions_names: 83\n"
     ]
    }
   ],
   "source": [
    "import networkx as nx\n",
    "import pandas as pd\n",
    "import numpy as np\n",
    "import os\n",
    "import seaborn as sns\n",
    "import matplotlib.pyplot as plt\n",
    "\n",
    "current_dir = os.getcwd()\n",
    "file_path = os.path.join(current_dir, 'data','data.graphml')\n",
    "G = nx.read_graphml(file_path)\n",
    "\n",
    "# Extract necessary information from the graph\n",
    "nodes = list(G.nodes())\n",
    "edges = list(G.edges())\n",
    "\n",
    "# Initialize an empty list to store regions\n",
    "regions = []\n",
    "# Iterate over all nodes in the graph\n",
    "for n in G.nodes():\n",
    "    # Get the 'dn_name' attribute of the current node and append it to the regions list\n",
    "    regions.append(G.nodes[n]['dn_name'])\n",
    "# Remove duplicate region names\n",
    "regions = list(set(regions))\n",
    "\n",
    "# Extract the region name (without the trailing underscore) from each region\n",
    "regions_name_all = [item.split('_')[0] for item in regions]\n",
    "\n",
    "# Remove duplicate region names\n",
    "regions_names = list(set(regions_name_all))\n",
    "\n",
    "print('nodes:', len(nodes))\n",
    "print('regions:', len(regions))\n",
    "print('regions_name_all:', len(regions_name_all))\n",
    "print('regions_names:', len(regions_names))"
   ]
  },
  {
   "cell_type": "code",
   "execution_count": 2,
   "metadata": {},
   "outputs": [
    {
     "name": "stdout",
     "output_type": "stream",
     "text": [
      "83\n"
     ]
    }
   ],
   "source": [
    "# Create a region-to-region connection matrix\n",
    "region_connections = pd.DataFrame(0, index=regions_names, columns=regions_names)\n",
    "\n",
    "#Traverse the edges in the graph and update the connection matrix\n",
    "for u, v in G.edges():\n",
    "    if u != v:  # Ignore self-loops\n",
    "        region_u = G.nodes[u]['dn_name'].split('_')[0]\n",
    "        region_v = G.nodes[v]['dn_name'].split('_')[0]\n",
    "        if region_u != region_v:  # Update the number of connections between the two areas to avoid self-loops\n",
    "            region_connections.loc[region_u, region_v] += 1\n",
    "            region_connections.loc[region_v, region_u] += 1  # Ensure no repeated statistics\n",
    "\n",
    "print(len(region_connections))\n",
    "# Save to CSV file\n",
    "region_connections.to_csv('region_connections.csv')"
   ]
  },
  {
   "cell_type": "code",
   "execution_count": 3,
   "metadata": {},
   "outputs": [
    {
     "name": "stdout",
     "output_type": "stream",
     "text": [
      "name_sort: 83\n"
     ]
    }
   ],
   "source": [
    "with open('sort.txt', 'r') as file:\n",
    "    name_sort = [line.strip() for line in file]\n",
    "\n",
    "print('name_sort:',len(name_sort))\n"
   ]
  },
  {
   "cell_type": "code",
   "execution_count": 4,
   "metadata": {},
   "outputs": [],
   "source": [
    "# Create a region-to-region connection matrix and a weight sum matrix\n",
    "region_connections = pd.DataFrame(0, index=regions_names, columns=regions_names, dtype=int)\n",
    "weight_sums = pd.DataFrame(0.0, index=regions_names, columns=regions_names, dtype=float)\n",
    "\n",
    "# Traverse the edges in the graph and update the connection matrix and weight sum\n",
    "for u, v, data in G.edges(data=True):\n",
    "    if u != v:  # Ignore self-loops\n",
    "        region_u = G.nodes[u]['dn_name'].split('_')[0]\n",
    "        region_v = G.nodes[v]['dn_name'].split('_')[0]\n",
    "        weight = data['number_of_fiber_per_fiber_length_mean'] \n",
    "        if region_u != region_v:  # Update the number of connections and the sum of weights between the two areas to avoid self-loops\n",
    "            region_connections.loc[region_u, region_v] += 1\n",
    "            region_connections.loc[region_v, region_u] += 1\n",
    "            weight_sums.loc[region_u, region_v] += weight\n",
    "            weight_sums.loc[region_v, region_u] += weight\n",
    "\n",
    "# Calculate average weight\n",
    "average_weights = weight_sums.div(region_connections.replace(0, np.nan))\n",
    "\n",
    "# Sort the DataFrame using the name_sort list\n",
    "sorted_region_connections = region_connections.reindex(index=name_sort, columns=name_sort)\n",
    "sorted_average_weights = average_weights.reindex(index=name_sort, columns=name_sort)\n",
    "\n"
   ]
  },
  {
   "cell_type": "code",
   "execution_count": 5,
   "metadata": {},
   "outputs": [
    {
     "name": "stdout",
     "output_type": "stream",
     "text": [
      "       lh.lateralorbitofrontal  lh.parsorbitalis  lh.frontalpole  \\\n",
      "count                 6.000000               0.0             0.0   \n",
      "mean                  3.295960               NaN             NaN   \n",
      "std                   1.454765               NaN             NaN   \n",
      "min                   2.000000               NaN             NaN   \n",
      "25%                   2.200000               NaN             NaN   \n",
      "50%                   3.100000               NaN             NaN   \n",
      "75%                   3.600000               NaN             NaN   \n",
      "max                   5.909091               NaN             NaN   \n",
      "\n",
      "       lh.medialorbitofrontal  lh.parstriangularis  lh.parsopercularis  \\\n",
      "count                5.000000             4.000000            5.000000   \n",
      "mean                 3.546667             3.006250            3.425000   \n",
      "std                  1.730382             0.875684            1.903122   \n",
      "min                  2.000000             2.000000            2.000000   \n",
      "25%                  2.400000             2.468750            2.000000   \n",
      "50%                  3.000000             3.012500            2.625000   \n",
      "75%                  4.000000             3.550000            4.000000   \n",
      "max                  6.333333             4.000000            6.500000   \n",
      "\n",
      "       lh.rostralmiddlefrontal  lh.superiorfrontal  lh.caudalmiddlefrontal  \\\n",
      "count                 8.000000            7.000000                8.000000   \n",
      "mean                  3.373958            4.056122                5.156250   \n",
      "std                   1.203397            1.444827                2.862746   \n",
      "min                   2.000000            2.500000                3.000000   \n",
      "25%                   2.700000            3.071429                3.000000   \n",
      "50%                   3.083333            3.750000                3.875000   \n",
      "75%                   3.812500            4.750000                6.625000   \n",
      "max                   5.875000            6.500000               11.000000   \n",
      "\n",
      "       lh.precentral  ...  rh.transversetemporal  rh.insula  \\\n",
      "count      12.000000  ...                    0.0  14.000000   \n",
      "mean        4.598890  ...                    NaN   4.111820   \n",
      "std         2.463162  ...                    NaN   2.008906   \n",
      "min         2.000000  ...                    NaN   2.000000   \n",
      "25%         3.613636  ...                    NaN   3.000000   \n",
      "50%         4.154762  ...                    NaN   4.000000   \n",
      "75%         4.541667  ...                    NaN   4.666667   \n",
      "max        11.692308  ...                    NaN  10.000000   \n",
      "\n",
      "       Left-Thalamus-Proper  Left-Caudate  Left-Putamen  Left-Pallidum  \\\n",
      "count             16.000000     23.000000     21.000000       9.000000   \n",
      "mean              14.500000     16.102692      9.081869       8.911111   \n",
      "std               16.747471     33.528279     11.166316      14.912113   \n",
      "min                2.000000      2.000000      2.000000       2.000000   \n",
      "25%                4.625000      3.000000      3.833333       3.000000   \n",
      "50%                6.000000      4.142857      6.333333       3.000000   \n",
      "75%               22.000000      8.600000     10.000000       4.200000   \n",
      "max               56.000000    156.000000     54.000000      48.000000   \n",
      "\n",
      "       Left-Accumbens-area  Left-Hippocampus  Left-Amygdala  Brain-Stem  \n",
      "count             9.000000         17.000000       8.000000    7.000000  \n",
      "mean              3.111111          7.563725       4.229167   14.000000  \n",
      "std               1.536591         12.700528       2.679934   19.570386  \n",
      "min               2.000000          2.000000       2.000000    2.000000  \n",
      "25%               2.000000          2.500000       2.375000    2.000000  \n",
      "50%               2.000000          4.000000       3.666667    4.000000  \n",
      "75%               4.000000          6.750000       4.500000   19.500000  \n",
      "max               6.000000         56.000000      10.000000   49.000000  \n",
      "\n",
      "[8 rows x 83 columns]\n",
      "Overall mean weight: 4.6943930379463605\n",
      "Maximum average weight: 156.0\n",
      "Minimum average weight: 2.0\n",
      "Standard deviation of weights: 12.753247498708495\n",
      "Number of region pairs with no connections: 6359\n"
     ]
    }
   ],
   "source": [
    "# View basic descriptive statistics\n",
    "print(sorted_average_weights.describe())\n",
    "\n",
    "# Calculate the overall average weight\n",
    "mean_weight = sorted_average_weights.mean().mean()\n",
    "print(\"Overall mean weight:\", mean_weight)\n",
    "\n",
    "# Find the maximum and minimum average weight\n",
    "max_weight = sorted_average_weights.max().max()\n",
    "min_weight = sorted_average_weights.min().min()\n",
    "print(\"Maximum average weight:\", max_weight)\n",
    "print(\"Minimum average weight:\", min_weight)\n",
    "\n",
    "# Find the standard deviation of the weights\n",
    "std_deviation = sorted_average_weights.stack().std()\n",
    "print(\"Standard deviation of weights:\", std_deviation)\n",
    "\n",
    "# Check how many region pairs have an average connection weight of 0 (or very close to 0)\n",
    "zero_connections = sorted_average_weights.isna().sum().sum()\n",
    "print(\"Number of region pairs with no connections:\", zero_connections)\n"
   ]
  },
  {
   "cell_type": "code",
   "execution_count": 6,
   "metadata": {},
   "outputs": [
    {
     "data": {
      "image/png": "[encoded data removed]",
      "text/plain": [
       "<Figure size 2000x1500 with 2 Axes>"
      ]
     },
     "metadata": {},
     "output_type": "display_data"
    }
   ],
   "source": [
    "import seaborn as sns\n",
    "import matplotlib.pyplot as plt\n",
    "\n",
    "\n",
    "sns.set(style=\"white\")\n",
    "plt.figure(figsize=(20, 15)) \n",
    "ax = sns.heatmap(sorted_average_weights, annot=False, cmap='viridis', linewidths=.5)\n",
    "ax.set_title('Heatmap of Average Weights Between Regions')\n",
    "plt.xticks(rotation=90) \n",
    "plt.yticks(rotation=0)\n",
    "plt.show()\n"
   ]
  },
  {
   "cell_type": "markdown",
   "metadata": {},
   "source": [
    "Verify according to graphml, for example, brain stem, node 1015, not counting self-loop (connecting to itself), there are 7 connections in total, \n",
    "\n",
    "id weight:\n",
    "502 35\n",
    "503 2\n",
    "506 4\n",
    "507 2\n",
    "1008 49\n",
    "1012 4\n",
    "1013 2\n",
    "\n",
    "weights_sum/number_of_connections = 14 is much larger than 9.8, the reason may be that the default parameter amount is too small 1000 edges, so the value is too large"
   ]
  },
  {
   "cell_type": "code",
   "execution_count": 15,
   "metadata": {},
   "outputs": [
    {
     "data": {
      "application/vnd.plotly.v1+json": {
       "config": {
        "plotlyServerURL": "https://plot.ly"
       },
       "data": [
        {
         "hoverinfo": "text",
         "marker": {
          "color": [
           [
            1,
            0,
            0
           ],
           [
            1,
            0,
            0
           ],
           [
            1,
            0,
            0
           ],
           [
            1,
            0,
            0
           ],
           [
            1,
            0,
            0
           ],
           [
            1,
            0,
            0
           ],
           [
            1,
            0,
            0
           ],
           [
            1,
            0,
            0
           ],
           [
            1,
            0,
            0
           ],
           [
            1,
            0,
            0
           ],
           [
            1,
            0.65,
            0
           ],
           [
            0.12,
            0.56,
            1
           ],
           [
            0.12,
            0.56,
            1
           ],
           [
            0.12,
            0.56,
            1
           ],
           [
            0.12,
            0.56,
            1
           ],
           [
            1,
            0.65,
            0
           ],
           [
            1,
            0.65,
            0
           ],
           [
            1,
            0.65,
            0
           ],
           [
            1,
            0.65,
            0
           ],
           [
            1,
            0.65,
            0
           ],
           [
            0.68,
            1,
            0.18
           ],
           [
            0.68,
            1,
            0.18
           ],
           [
            0.68,
            1,
            0.18
           ],
           [
            0.68,
            1,
            0.18
           ],
           [
            0,
            0.75,
            1
           ],
           [
            0,
            0.75,
            1
           ],
           [
            0,
            0.75,
            1
           ],
           [
            0,
            0.75,
            1
           ],
           [
            0,
            0.75,
            1
           ],
           [
            0,
            0.75,
            1
           ],
           [
            0,
            0.75,
            1
           ],
           [
            0,
            0.75,
            1
           ],
           [
            0,
            0.75,
            1
           ],
           [
            0.12,
            0.56,
            1
           ],
           [
            0,
            0,
            1
           ],
           [
            0,
            0,
            1
           ],
           [
            0,
            0,
            1
           ],
           [
            0,
            0,
            1
           ],
           [
            0,
            0,
            1
           ],
           [
            0.12,
            0.56,
            1
           ],
           [
            0.12,
            0.56,
            1
           ],
           [
            1,
            0,
            0
           ],
           [
            1,
            0,
            0
           ],
           [
            1,
            0,
            0
           ],
           [
            1,
            0,
            0
           ],
           [
            1,
            0,
            0
           ],
           [
            1,
            0,
            0
           ],
           [
            1,
            0,
            0
           ],
           [
            1,
            0,
            0
           ],
           [
            1,
            0,
            0
           ],
           [
            1,
            0,
            0
           ],
           [
            1,
            0.65,
            0
           ],
           [
            0.12,
            0.56,
            1
           ],
           [
            0.12,
            0.56,
            1
           ],
           [
            0.12,
            0.56,
            1
           ],
           [
            0.12,
            0.56,
            1
           ],
           [
            1,
            0.65,
            0
           ],
           [
            1,
            0.65,
            0
           ],
           [
            1,
            0.65,
            0
           ],
           [
            1,
            0.65,
            0
           ],
           [
            1,
            0.65,
            0
           ],
           [
            0.68,
            1,
            0.18
           ],
           [
            0.68,
            1,
            0.18
           ],
           [
            0.68,
            1,
            0.18
           ],
           [
            0.68,
            1,
            0.18
           ],
           [
            0,
            0.75,
            1
           ],
           [
            0,
            0.75,
            1
           ],
           [
            0,
            0.75,
            1
           ],
           [
            0,
            0.75,
            1
           ],
           [
            0,
            0.75,
            1
           ],
           [
            0,
            0.75,
            1
           ],
           [
            0,
            0.75,
            1
           ],
           [
            0,
            0.75,
            1
           ],
           [
            0,
            0.75,
            1
           ],
           [
            0.12,
            0.56,
            1
           ],
           [
            0,
            0,
            1
           ],
           [
            0,
            0,
            1
           ],
           [
            0,
            0,
            1
           ],
           [
            0,
            0,
            1
           ],
           [
            0,
            0,
            1
           ],
           [
            0.12,
            0.56,
            1
           ],
           [
            0.12,
            0.56,
            1
           ],
           [
            0,
            0,
            0
           ]
          ],
          "opacity": 0.9,
          "size": 8
         },
         "mode": "markers",
         "text": [
          "lh.lateralorbitofrontal (frontal)",
          "lh.parsorbitalis (frontal)",
          "lh.frontalpole (frontal)",
          "lh.medialorbitofrontal (frontal)",
          "lh.parstriangularis (frontal)",
          "lh.parsopercularis (frontal)",
          "lh.rostralmiddlefrontal (frontal)",
          "lh.superiorfrontal (frontal)",
          "lh.caudalmiddlefrontal (frontal)",
          "lh.precentral (frontal)",
          "lh.paracentral (parietal)",
          "lh.rostralanteriorcingulate (limbic)",
          "lh.caudalanteriorcingulate (limbic)",
          "lh.posteriorcingulate (limbic)",
          "lh.isthmuscingulate (limbic)",
          "lh.postcentral (parietal)",
          "lh.supramarginal (parietal)",
          "lh.superiorparietal (parietal)",
          "lh.inferiorparietal (parietal)",
          "lh.precuneus (parietal)",
          "lh.cuneus (occipital)",
          "lh.pericalcarine (occipital)",
          "lh.lateraloccipital (occipital)",
          "lh.lingual (occipital)",
          "lh.fusiform (temporal)",
          "lh.parahippocampal (temporal)",
          "lh.entorhinal (temporal)",
          "lh.temporalpole (temporal)",
          "lh.inferiortemporal (temporal)",
          "lh.middletemporal (temporal)",
          "lh.bankssts (temporal)",
          "lh.superiortemporal (temporal)",
          "lh.transversetemporal (temporal)",
          "lh.insula (limbic)",
          "Right-Thalamus-Proper (basal_ganglia)",
          "Right-Caudate (basal_ganglia)",
          "Right-Putamen (basal_ganglia)",
          "Right-Pallidum (basal_ganglia)",
          "Right-Accumbens-area (basal_ganglia)",
          "Right-Hippocampus (limbic)",
          "Right-Amygdala (limbic)",
          "rh.lateralorbitofrontal (frontal)",
          "rh.parsorbitalis (frontal)",
          "rh.frontalpole (frontal)",
          "rh.medialorbitofrontal (frontal)",
          "rh.parstriangularis (frontal)",
          "rh.parsopercularis (frontal)",
          "rh.rostralmiddlefrontal (frontal)",
          "rh.superiorfrontal (frontal)",
          "rh.caudalmiddlefrontal (frontal)",
          "rh.precentral (frontal)",
          "rh.paracentral (parietal)",
          "rh.rostralanteriorcingulate (limbic)",
          "rh.caudalanteriorcingulate (limbic)",
          "rh.posteriorcingulate (limbic)",
          "rh.isthmuscingulate (limbic)",
          "rh.postcentral (parietal)",
          "rh.supramarginal (parietal)",
          "rh.superiorparietal (parietal)",
          "rh.inferiorparietal (parietal)",
          "rh.precuneus (parietal)",
          "rh.cuneus (occipital)",
          "rh.pericalcarine (occipital)",
          "rh.lateraloccipital (occipital)",
          "rh.lingual (occipital)",
          "rh.fusiform (temporal)",
          "rh.parahippocampal (temporal)",
          "rh.entorhinal (temporal)",
          "rh.temporalpole (temporal)",
          "rh.inferiortemporal (temporal)",
          "rh.middletemporal (temporal)",
          "rh.bankssts (temporal)",
          "rh.superiortemporal (temporal)",
          "rh.transversetemporal (temporal)",
          "rh.insula (limbic)",
          "Left-Thalamus-Proper (basal_ganglia)",
          "Left-Caudate (basal_ganglia)",
          "Left-Putamen (basal_ganglia)",
          "Left-Pallidum (basal_ganglia)",
          "Left-Accumbens-area (basal_ganglia)",
          "Left-Hippocampus (limbic)",
          "Left-Amygdala (limbic)",
          "Brain-Stem (brain_stem)"
         ],
         "type": "scatter3d",
         "x": [
          34.07252998,
          25.69463087,
          40.52884615,
          41.6103321,
          21.92128679,
          21.2955626,
          29.05049396,
          39.47277377,
          29.23598001,
          26.57336132,
          41.90993789,
          41.20798319,
          42.36022514,
          41.84807492,
          41.46723044,
          26.50948592,
          20.65394484,
          35.7320477,
          25.11897761,
          39.88837042,
          41.29815951,
          40.10450161,
          31.0952381,
          38.93587444,
          28.66172316,
          33.31137725,
          33.6826484,
          31.67787419,
          21.86968301,
          17.68024985,
          20.33384146,
          19.57778999,
          21.89972145,
          28.04171495,
          39.72436751,
          38.86863711,
          33.04900459,
          36.88760807,
          42.14336918,
          32.69407895,
          34.54857143,
          54.66492395,
          64.71492537,
          47.59139785,
          47.34386481,
          66.17241379,
          68.29597315,
          60.5041339,
          49.93668763,
          62.64297521,
          63.70199587,
          48.29128857,
          47.40466392,
          47.86676017,
          48,
          48.25218659,
          65.27928389,
          69.60832514,
          54.97836982,
          65.56197787,
          50.42891076,
          48.53673724,
          50.30191693,
          59.24117647,
          51.14585192,
          61.92384562,
          56.26045627,
          55.91336634,
          57.88209607,
          69.02394842,
          72.44444444,
          70.72847682,
          70.57514097,
          66.16111111,
          61.95915916,
          51.03064904,
          51.22564935,
          57.16567164,
          53.7755611,
          47.42704626,
          56.00270027,
          54.91442155,
          44.57597245
         ],
         "y": [
          79.33181039,
          83.34731544,
          94.5,
          82.42583026,
          79.27378508,
          70.16481775,
          83.5528723,
          75.26022864,
          67.01110494,
          59.0776767,
          49.2826087,
          77.82142857,
          68.72795497,
          50.79396462,
          42.61522199,
          51.94920441,
          47.42880051,
          32.16417153,
          34.12689437,
          35.03266332,
          26.71656442,
          27.71382637,
          22.77359042,
          30.25426009,
          40.04272599,
          48.87624751,
          61.31506849,
          72.7537961,
          48.31752912,
          53.25550268,
          47.16615854,
          61.84194612,
          55.82451253,
          63.95538818,
          54.16644474,
          64.77586207,
          62.90352221,
          61.65706052,
          67.14336918,
          52.95394737,
          62.98,
          79.26948669,
          83.45522388,
          94.06989247,
          82.99191771,
          78.95611285,
          71.37852349,
          82.33716475,
          74.24891684,
          65.31404959,
          57.68020188,
          46.20235935,
          78.76817558,
          69.96213184,
          51.39815668,
          41.6851312,
          50.41713555,
          44.09898394,
          30.5333685,
          31.4838564,
          34.25008483,
          25.23412204,
          26.67252396,
          22.33613445,
          29.34968778,
          42.11853894,
          48.80418251,
          61.21534653,
          71.34934498,
          48.5237949,
          53.68130406,
          45.42715232,
          59.2277519,
          53.69166667,
          62.47267267,
          53.87439904,
          64.71428571,
          62.63208955,
          60.70573566,
          65.96085409,
          52.26732673,
          62.89857369,
          50.37965964
         ],
         "z": [
          31.27698458,
          33.22315436,
          35.20833333,
          31.5402214,
          39.41136208,
          42.38985737,
          46.50128064,
          55.82039711,
          56.9611327,
          54.44133427,
          60.26475155,
          39.66386555,
          48.02439024,
          49.65764828,
          40.86469345,
          56.05936353,
          50.4913406,
          56.47500634,
          48.64103144,
          49.91708543,
          41.91411043,
          36.43247588,
          35.84721005,
          30.28340807,
          26.03425141,
          26.0239521,
          18.43835616,
          20.93383948,
          23.47277161,
          28.02766211,
          35.22865854,
          32.07174272,
          36.7994429,
          35.65701043,
          37.72103862,
          41.66584565,
          36.41500766,
          35.1037464,
          32.42293907,
          28.73848684,
          26.62714286,
          30.87737643,
          33.39552239,
          39.76344086,
          32.55033064,
          37.80877743,
          40.73825503,
          46.96148417,
          56.4962963,
          55.52479339,
          54.04152329,
          59.49183303,
          38.74485597,
          47.89340813,
          50.6202765,
          41.1574344,
          54.88235294,
          49.81284825,
          53.52914798,
          46.47143825,
          50.35595521,
          39.55541719,
          34.89776358,
          32.39803922,
          29.26360393,
          24.54548587,
          26.02091255,
          19.65841584,
          20.59679767,
          23.16364753,
          26.48835662,
          34.5794702,
          32.41358176,
          37.30277778,
          35.08708709,
          37.59795673,
          41.37175325,
          35.63656716,
          34.30673317,
          31.90035587,
          28.83168317,
          26.07290016,
          19.79801459
         ]
        },
        {
         "hoverinfo": "none",
         "line": {
          "color": "gray",
          "width": 0.5
         },
         "mode": "lines",
         "type": "scatter3d",
         "x": [
          34.07252998,
          41.6103321,
          34.07252998,
          21.92128679,
          34.07252998,
          29.05049396,
          34.07252998,
          51.22564935,
          34.07252998,
          57.16567164,
          34.07252998,
          47.42704626,
          41.6103321,
          29.05049396,
          41.6103321,
          39.47277377,
          41.6103321,
          51.22564935,
          41.6103321,
          57.16567164,
          21.92128679,
          21.2955626,
          21.92128679,
          29.05049396,
          21.92128679,
          57.16567164,
          21.2955626,
          26.57336132,
          21.2955626,
          28.04171495,
          21.2955626,
          51.22564935,
          21.2955626,
          57.16567164,
          29.05049396,
          39.47277377,
          29.05049396,
          29.23598001,
          29.05049396,
          28.04171495,
          29.05049396,
          51.22564935,
          29.05049396,
          57.16567164,
          39.47277377,
          29.23598001,
          39.47277377,
          42.36022514,
          39.47277377,
          41.84807492,
          39.47277377,
          51.22564935,
          39.47277377,
          57.16567164,
          29.23598001,
          26.57336132,
          29.23598001,
          42.36022514,
          29.23598001,
          28.04171495,
          29.23598001,
          51.22564935,
          29.23598001,
          57.16567164,
          29.23598001,
          53.7755611,
          26.57336132,
          41.90993789,
          26.57336132,
          41.84807492,
          26.57336132,
          26.50948592,
          26.57336132,
          20.65394484,
          26.57336132,
          35.7320477,
          26.57336132,
          28.04171495,
          26.57336132,
          51.03064904,
          26.57336132,
          51.22564935,
          26.57336132,
          57.16567164,
          26.57336132,
          53.7755611,
          41.90993789,
          35.7320477,
          41.20798319,
          42.36022514,
          41.20798319,
          38.86863711,
          41.20798319,
          51.22564935,
          41.20798319,
          57.16567164,
          41.20798319,
          47.42704626,
          42.36022514,
          41.84807492,
          42.36022514,
          38.86863711,
          42.36022514,
          51.22564935,
          42.36022514,
          57.16567164,
          41.84807492,
          35.7320477,
          41.84807492,
          51.03064904,
          41.84807492,
          51.22564935,
          41.84807492,
          57.16567164,
          41.84807492,
          53.7755611,
          41.46723044,
          35.7320477,
          41.46723044,
          39.88837042,
          41.46723044,
          51.03064904,
          41.46723044,
          51.22564935,
          41.46723044,
          56.00270027,
          26.50948592,
          20.65394484,
          26.50948592,
          28.04171495,
          26.50948592,
          51.03064904,
          26.50948592,
          51.22564935,
          26.50948592,
          57.16567164,
          20.65394484,
          35.7320477,
          20.65394484,
          28.04171495,
          20.65394484,
          51.22564935,
          20.65394484,
          57.16567164,
          35.7320477,
          25.11897761,
          35.7320477,
          39.88837042,
          35.7320477,
          41.29815951,
          35.7320477,
          40.10450161,
          35.7320477,
          19.57778999,
          35.7320477,
          28.04171495,
          35.7320477,
          51.03064904,
          35.7320477,
          57.16567164,
          25.11897761,
          39.88837042,
          25.11897761,
          40.10450161,
          25.11897761,
          31.0952381,
          25.11897761,
          28.66172316,
          25.11897761,
          19.57778999,
          25.11897761,
          28.04171495,
          25.11897761,
          56.00270027,
          39.88837042,
          31.0952381,
          39.88837042,
          56.00270027,
          40.10450161,
          31.0952381,
          40.10450161,
          28.66172316,
          31.0952381,
          38.93587444,
          31.0952381,
          28.66172316,
          28.66172316,
          21.86968301,
          28.66172316,
          20.33384146,
          28.66172316,
          56.00270027,
          33.31137725,
          56.00270027,
          33.6826484,
          56.00270027,
          33.6826484,
          54.91442155,
          31.67787419,
          54.91442155,
          21.86968301,
          17.68024985,
          21.86968301,
          20.33384146,
          21.86968301,
          28.04171495,
          21.86968301,
          56.00270027,
          21.86968301,
          54.91442155,
          20.33384146,
          28.04171495,
          20.33384146,
          56.00270027,
          19.57778999,
          28.04171495,
          19.57778999,
          56.00270027,
          21.89972145,
          51.03064904,
          28.04171495,
          51.03064904,
          28.04171495,
          51.22564935,
          28.04171495,
          57.16567164,
          28.04171495,
          56.00270027,
          28.04171495,
          54.91442155,
          39.72436751,
          38.86863711,
          39.72436751,
          33.04900459,
          39.72436751,
          36.88760807,
          39.72436751,
          42.14336918,
          39.72436751,
          32.69407895,
          39.72436751,
          34.54857143,
          39.72436751,
          63.70199587,
          39.72436751,
          48,
          39.72436751,
          69.60832514,
          39.72436751,
          61.95915916,
          39.72436751,
          51.03064904,
          39.72436751,
          51.22564935,
          39.72436751,
          44.57597245,
          38.86863711,
          33.04900459,
          38.86863711,
          36.88760807,
          38.86863711,
          42.14336918,
          38.86863711,
          32.69407895,
          38.86863711,
          34.54857143,
          38.86863711,
          54.66492395,
          38.86863711,
          47.34386481,
          38.86863711,
          68.29597315,
          38.86863711,
          60.5041339,
          38.86863711,
          49.93668763,
          38.86863711,
          62.64297521,
          38.86863711,
          63.70199587,
          38.86863711,
          47.40466392,
          38.86863711,
          47.86676017,
          38.86863711,
          48,
          38.86863711,
          48.25218659,
          38.86863711,
          69.60832514,
          38.86863711,
          61.95915916,
          38.86863711,
          51.03064904,
          38.86863711,
          51.22564935,
          38.86863711,
          47.42704626,
          38.86863711,
          44.57597245,
          33.04900459,
          36.88760807,
          33.04900459,
          42.14336918,
          33.04900459,
          32.69407895,
          33.04900459,
          34.54857143,
          33.04900459,
          54.66492395,
          33.04900459,
          47.34386481,
          33.04900459,
          66.17241379,
          33.04900459,
          68.29597315,
          33.04900459,
          60.5041339,
          33.04900459,
          49.93668763,
          33.04900459,
          62.64297521,
          33.04900459,
          63.70199587,
          33.04900459,
          47.40466392,
          33.04900459,
          48,
          33.04900459,
          65.27928389,
          33.04900459,
          69.60832514,
          33.04900459,
          54.97836982,
          33.04900459,
          61.95915916,
          36.88760807,
          42.14336918,
          36.88760807,
          32.69407895,
          36.88760807,
          34.54857143,
          36.88760807,
          68.29597315,
          36.88760807,
          62.64297521,
          36.88760807,
          63.70199587,
          36.88760807,
          48,
          42.14336918,
          32.69407895,
          42.14336918,
          47.40466392,
          42.14336918,
          44.57597245,
          32.69407895,
          34.54857143,
          32.69407895,
          48.25218659,
          32.69407895,
          69.60832514,
          32.69407895,
          65.56197787,
          32.69407895,
          50.42891076,
          32.69407895,
          61.92384562,
          32.69407895,
          56.26045627,
          32.69407895,
          55.91336634,
          32.69407895,
          72.44444444,
          32.69407895,
          70.72847682,
          32.69407895,
          70.57514097,
          32.69407895,
          61.95915916,
          32.69407895,
          44.57597245,
          34.54857143,
          69.02394842,
          34.54857143,
          61.95915916,
          54.66492395,
          47.34386481,
          54.66492395,
          66.17241379,
          54.66492395,
          60.5041339,
          54.66492395,
          49.93668763,
          47.34386481,
          60.5041339,
          66.17241379,
          60.5041339,
          68.29597315,
          49.93668763,
          68.29597315,
          61.95915916,
          60.5041339,
          49.93668763,
          60.5041339,
          62.64297521,
          49.93668763,
          62.64297521,
          49.93668763,
          63.70199587,
          49.93668763,
          48.29128857,
          62.64297521,
          63.70199587,
          62.64297521,
          47.86676017,
          62.64297521,
          61.95915916,
          63.70199587,
          48.29128857,
          63.70199587,
          48,
          63.70199587,
          65.27928389,
          63.70199587,
          69.60832514,
          63.70199587,
          54.97836982,
          63.70199587,
          61.95915916,
          48.29128857,
          65.27928389,
          48.29128857,
          69.60832514,
          48.29128857,
          54.97836982,
          47.40466392,
          51.22564935,
          47.86676017,
          51.22564935,
          48,
          69.60832514,
          48.25218659,
          50.42891076,
          69.60832514,
          54.97836982,
          69.60832514,
          65.56197787,
          54.97836982,
          50.42891076,
          54.97836982,
          50.30191693,
          54.97836982,
          61.95915916,
          65.56197787,
          59.24117647,
          65.56197787,
          51.14585192,
          65.56197787,
          61.92384562,
          65.56197787,
          70.72847682,
          65.56197787,
          61.95915916,
          50.42891076,
          59.24117647,
          50.30191693,
          59.24117647,
          59.24117647,
          51.14585192,
          59.24117647,
          61.92384562,
          61.92384562,
          61.95915916,
          69.02394842,
          72.44444444,
          69.02394842,
          70.72847682,
          69.02394842,
          61.95915916,
          70.72847682,
          70.57514097,
          70.72847682,
          61.95915916,
          70.57514097,
          61.95915916,
          51.03064904,
          51.22564935,
          51.03064904,
          57.16567164,
          51.03064904,
          53.7755611,
          51.03064904,
          47.42704626,
          51.03064904,
          56.00270027,
          51.03064904,
          54.91442155,
          51.03064904,
          44.57597245,
          51.22564935,
          57.16567164,
          51.22564935,
          53.7755611,
          51.22564935,
          47.42704626,
          51.22564935,
          56.00270027,
          57.16567164,
          53.7755611,
          57.16567164,
          47.42704626,
          57.16567164,
          56.00270027,
          57.16567164,
          54.91442155,
          53.7755611,
          47.42704626,
          53.7755611,
          56.00270027,
          53.7755611,
          54.91442155,
          47.42704626,
          56.00270027,
          47.42704626,
          44.57597245,
          56.00270027,
          54.91442155,
          56.00270027,
          44.57597245
         ],
         "y": [
          79.33181039,
          82.42583026,
          79.33181039,
          79.27378508,
          79.33181039,
          83.5528723,
          79.33181039,
          64.71428571,
          79.33181039,
          62.63208955,
          79.33181039,
          65.96085409,
          82.42583026,
          83.5528723,
          82.42583026,
          75.26022864,
          82.42583026,
          64.71428571,
          82.42583026,
          62.63208955,
          79.27378508,
          70.16481775,
          79.27378508,
          83.5528723,
          79.27378508,
          62.63208955,
          70.16481775,
          59.0776767,
          70.16481775,
          63.95538818,
          70.16481775,
          64.71428571,
          70.16481775,
          62.63208955,
          83.5528723,
          75.26022864,
          83.5528723,
          67.01110494,
          83.5528723,
          63.95538818,
          83.5528723,
          64.71428571,
          83.5528723,
          62.63208955,
          75.26022864,
          67.01110494,
          75.26022864,
          68.72795497,
          75.26022864,
          50.79396462,
          75.26022864,
          64.71428571,
          75.26022864,
          62.63208955,
          67.01110494,
          59.0776767,
          67.01110494,
          68.72795497,
          67.01110494,
          63.95538818,
          67.01110494,
          64.71428571,
          67.01110494,
          62.63208955,
          67.01110494,
          60.70573566,
          59.0776767,
          49.2826087,
          59.0776767,
          50.79396462,
          59.0776767,
          51.94920441,
          59.0776767,
          47.42880051,
          59.0776767,
          32.16417153,
          59.0776767,
          63.95538818,
          59.0776767,
          53.87439904,
          59.0776767,
          64.71428571,
          59.0776767,
          62.63208955,
          59.0776767,
          60.70573566,
          49.2826087,
          32.16417153,
          77.82142857,
          68.72795497,
          77.82142857,
          64.77586207,
          77.82142857,
          64.71428571,
          77.82142857,
          62.63208955,
          77.82142857,
          65.96085409,
          68.72795497,
          50.79396462,
          68.72795497,
          64.77586207,
          68.72795497,
          64.71428571,
          68.72795497,
          62.63208955,
          50.79396462,
          32.16417153,
          50.79396462,
          53.87439904,
          50.79396462,
          64.71428571,
          50.79396462,
          62.63208955,
          50.79396462,
          60.70573566,
          42.61522199,
          32.16417153,
          42.61522199,
          35.03266332,
          42.61522199,
          53.87439904,
          42.61522199,
          64.71428571,
          42.61522199,
          52.26732673,
          51.94920441,
          47.42880051,
          51.94920441,
          63.95538818,
          51.94920441,
          53.87439904,
          51.94920441,
          64.71428571,
          51.94920441,
          62.63208955,
          47.42880051,
          32.16417153,
          47.42880051,
          63.95538818,
          47.42880051,
          64.71428571,
          47.42880051,
          62.63208955,
          32.16417153,
          34.12689437,
          32.16417153,
          35.03266332,
          32.16417153,
          26.71656442,
          32.16417153,
          27.71382637,
          32.16417153,
          61.84194612,
          32.16417153,
          63.95538818,
          32.16417153,
          53.87439904,
          32.16417153,
          62.63208955,
          34.12689437,
          35.03266332,
          34.12689437,
          27.71382637,
          34.12689437,
          22.77359042,
          34.12689437,
          40.04272599,
          34.12689437,
          61.84194612,
          34.12689437,
          63.95538818,
          34.12689437,
          52.26732673,
          35.03266332,
          22.77359042,
          35.03266332,
          52.26732673,
          27.71382637,
          22.77359042,
          27.71382637,
          40.04272599,
          22.77359042,
          30.25426009,
          22.77359042,
          40.04272599,
          40.04272599,
          48.31752912,
          40.04272599,
          47.16615854,
          40.04272599,
          52.26732673,
          48.87624751,
          52.26732673,
          61.31506849,
          52.26732673,
          61.31506849,
          62.89857369,
          72.7537961,
          62.89857369,
          48.31752912,
          53.25550268,
          48.31752912,
          47.16615854,
          48.31752912,
          63.95538818,
          48.31752912,
          52.26732673,
          48.31752912,
          62.89857369,
          47.16615854,
          63.95538818,
          47.16615854,
          52.26732673,
          61.84194612,
          63.95538818,
          61.84194612,
          52.26732673,
          55.82451253,
          53.87439904,
          63.95538818,
          53.87439904,
          63.95538818,
          64.71428571,
          63.95538818,
          62.63208955,
          63.95538818,
          52.26732673,
          63.95538818,
          62.89857369,
          54.16644474,
          64.77586207,
          54.16644474,
          62.90352221,
          54.16644474,
          61.65706052,
          54.16644474,
          67.14336918,
          54.16644474,
          52.95394737,
          54.16644474,
          62.98,
          54.16644474,
          57.68020188,
          54.16644474,
          51.39815668,
          54.16644474,
          44.09898394,
          54.16644474,
          62.47267267,
          54.16644474,
          53.87439904,
          54.16644474,
          64.71428571,
          54.16644474,
          50.37965964,
          64.77586207,
          62.90352221,
          64.77586207,
          61.65706052,
          64.77586207,
          67.14336918,
          64.77586207,
          52.95394737,
          64.77586207,
          62.98,
          64.77586207,
          79.26948669,
          64.77586207,
          82.99191771,
          64.77586207,
          71.37852349,
          64.77586207,
          82.33716475,
          64.77586207,
          74.24891684,
          64.77586207,
          65.31404959,
          64.77586207,
          57.68020188,
          64.77586207,
          78.76817558,
          64.77586207,
          69.96213184,
          64.77586207,
          51.39815668,
          64.77586207,
          41.6851312,
          64.77586207,
          44.09898394,
          64.77586207,
          62.47267267,
          64.77586207,
          53.87439904,
          64.77586207,
          64.71428571,
          64.77586207,
          65.96085409,
          64.77586207,
          50.37965964,
          62.90352221,
          61.65706052,
          62.90352221,
          67.14336918,
          62.90352221,
          52.95394737,
          62.90352221,
          62.98,
          62.90352221,
          79.26948669,
          62.90352221,
          82.99191771,
          62.90352221,
          78.95611285,
          62.90352221,
          71.37852349,
          62.90352221,
          82.33716475,
          62.90352221,
          74.24891684,
          62.90352221,
          65.31404959,
          62.90352221,
          57.68020188,
          62.90352221,
          78.76817558,
          62.90352221,
          51.39815668,
          62.90352221,
          50.41713555,
          62.90352221,
          44.09898394,
          62.90352221,
          30.5333685,
          62.90352221,
          62.47267267,
          61.65706052,
          67.14336918,
          61.65706052,
          52.95394737,
          61.65706052,
          62.98,
          61.65706052,
          71.37852349,
          61.65706052,
          65.31404959,
          61.65706052,
          57.68020188,
          61.65706052,
          51.39815668,
          67.14336918,
          52.95394737,
          67.14336918,
          78.76817558,
          67.14336918,
          50.37965964,
          52.95394737,
          62.98,
          52.95394737,
          41.6851312,
          52.95394737,
          44.09898394,
          52.95394737,
          31.4838564,
          52.95394737,
          34.25008483,
          52.95394737,
          42.11853894,
          52.95394737,
          48.80418251,
          52.95394737,
          61.21534653,
          52.95394737,
          53.68130406,
          52.95394737,
          45.42715232,
          52.95394737,
          59.2277519,
          52.95394737,
          62.47267267,
          52.95394737,
          50.37965964,
          62.98,
          48.5237949,
          62.98,
          62.47267267,
          79.26948669,
          82.99191771,
          79.26948669,
          78.95611285,
          79.26948669,
          82.33716475,
          79.26948669,
          74.24891684,
          82.99191771,
          82.33716475,
          78.95611285,
          82.33716475,
          71.37852349,
          74.24891684,
          71.37852349,
          62.47267267,
          82.33716475,
          74.24891684,
          82.33716475,
          65.31404959,
          74.24891684,
          65.31404959,
          74.24891684,
          57.68020188,
          74.24891684,
          46.20235935,
          65.31404959,
          57.68020188,
          65.31404959,
          69.96213184,
          65.31404959,
          62.47267267,
          57.68020188,
          46.20235935,
          57.68020188,
          51.39815668,
          57.68020188,
          50.41713555,
          57.68020188,
          44.09898394,
          57.68020188,
          30.5333685,
          57.68020188,
          62.47267267,
          46.20235935,
          50.41713555,
          46.20235935,
          44.09898394,
          46.20235935,
          30.5333685,
          78.76817558,
          64.71428571,
          69.96213184,
          64.71428571,
          51.39815668,
          44.09898394,
          41.6851312,
          34.25008483,
          44.09898394,
          30.5333685,
          44.09898394,
          31.4838564,
          30.5333685,
          34.25008483,
          30.5333685,
          26.67252396,
          30.5333685,
          62.47267267,
          31.4838564,
          22.33613445,
          31.4838564,
          29.34968778,
          31.4838564,
          42.11853894,
          31.4838564,
          45.42715232,
          31.4838564,
          62.47267267,
          34.25008483,
          22.33613445,
          26.67252396,
          22.33613445,
          22.33613445,
          29.34968778,
          22.33613445,
          42.11853894,
          42.11853894,
          62.47267267,
          48.5237949,
          53.68130406,
          48.5237949,
          45.42715232,
          48.5237949,
          62.47267267,
          45.42715232,
          59.2277519,
          45.42715232,
          62.47267267,
          59.2277519,
          62.47267267,
          53.87439904,
          64.71428571,
          53.87439904,
          62.63208955,
          53.87439904,
          60.70573566,
          53.87439904,
          65.96085409,
          53.87439904,
          52.26732673,
          53.87439904,
          62.89857369,
          53.87439904,
          50.37965964,
          64.71428571,
          62.63208955,
          64.71428571,
          60.70573566,
          64.71428571,
          65.96085409,
          64.71428571,
          52.26732673,
          62.63208955,
          60.70573566,
          62.63208955,
          65.96085409,
          62.63208955,
          52.26732673,
          62.63208955,
          62.89857369,
          60.70573566,
          65.96085409,
          60.70573566,
          52.26732673,
          60.70573566,
          62.89857369,
          65.96085409,
          52.26732673,
          65.96085409,
          50.37965964,
          52.26732673,
          62.89857369,
          52.26732673,
          50.37965964
         ],
         "z": [
          31.27698458,
          31.5402214,
          31.27698458,
          39.41136208,
          31.27698458,
          46.50128064,
          31.27698458,
          41.37175325,
          31.27698458,
          35.63656716,
          31.27698458,
          31.90035587,
          31.5402214,
          46.50128064,
          31.5402214,
          55.82039711,
          31.5402214,
          41.37175325,
          31.5402214,
          35.63656716,
          39.41136208,
          42.38985737,
          39.41136208,
          46.50128064,
          39.41136208,
          35.63656716,
          42.38985737,
          54.44133427,
          42.38985737,
          35.65701043,
          42.38985737,
          41.37175325,
          42.38985737,
          35.63656716,
          46.50128064,
          55.82039711,
          46.50128064,
          56.9611327,
          46.50128064,
          35.65701043,
          46.50128064,
          41.37175325,
          46.50128064,
          35.63656716,
          55.82039711,
          56.9611327,
          55.82039711,
          48.02439024,
          55.82039711,
          49.65764828,
          55.82039711,
          41.37175325,
          55.82039711,
          35.63656716,
          56.9611327,
          54.44133427,
          56.9611327,
          48.02439024,
          56.9611327,
          35.65701043,
          56.9611327,
          41.37175325,
          56.9611327,
          35.63656716,
          56.9611327,
          34.30673317,
          54.44133427,
          60.26475155,
          54.44133427,
          49.65764828,
          54.44133427,
          56.05936353,
          54.44133427,
          50.4913406,
          54.44133427,
          56.47500634,
          54.44133427,
          35.65701043,
          54.44133427,
          37.59795673,
          54.44133427,
          41.37175325,
          54.44133427,
          35.63656716,
          54.44133427,
          34.30673317,
          60.26475155,
          56.47500634,
          39.66386555,
          48.02439024,
          39.66386555,
          41.66584565,
          39.66386555,
          41.37175325,
          39.66386555,
          35.63656716,
          39.66386555,
          31.90035587,
          48.02439024,
          49.65764828,
          48.02439024,
          41.66584565,
          48.02439024,
          41.37175325,
          48.02439024,
          35.63656716,
          49.65764828,
          56.47500634,
          49.65764828,
          37.59795673,
          49.65764828,
          41.37175325,
          49.65764828,
          35.63656716,
          49.65764828,
          34.30673317,
          40.86469345,
          56.47500634,
          40.86469345,
          49.91708543,
          40.86469345,
          37.59795673,
          40.86469345,
          41.37175325,
          40.86469345,
          28.83168317,
          56.05936353,
          50.4913406,
          56.05936353,
          35.65701043,
          56.05936353,
          37.59795673,
          56.05936353,
          41.37175325,
          56.05936353,
          35.63656716,
          50.4913406,
          56.47500634,
          50.4913406,
          35.65701043,
          50.4913406,
          41.37175325,
          50.4913406,
          35.63656716,
          56.47500634,
          48.64103144,
          56.47500634,
          49.91708543,
          56.47500634,
          41.91411043,
          56.47500634,
          36.43247588,
          56.47500634,
          32.07174272,
          56.47500634,
          35.65701043,
          56.47500634,
          37.59795673,
          56.47500634,
          35.63656716,
          48.64103144,
          49.91708543,
          48.64103144,
          36.43247588,
          48.64103144,
          35.84721005,
          48.64103144,
          26.03425141,
          48.64103144,
          32.07174272,
          48.64103144,
          35.65701043,
          48.64103144,
          28.83168317,
          49.91708543,
          35.84721005,
          49.91708543,
          28.83168317,
          36.43247588,
          35.84721005,
          36.43247588,
          26.03425141,
          35.84721005,
          30.28340807,
          35.84721005,
          26.03425141,
          26.03425141,
          23.47277161,
          26.03425141,
          35.22865854,
          26.03425141,
          28.83168317,
          26.0239521,
          28.83168317,
          18.43835616,
          28.83168317,
          18.43835616,
          26.07290016,
          20.93383948,
          26.07290016,
          23.47277161,
          28.02766211,
          23.47277161,
          35.22865854,
          23.47277161,
          35.65701043,
          23.47277161,
          28.83168317,
          23.47277161,
          26.07290016,
          35.22865854,
          35.65701043,
          35.22865854,
          28.83168317,
          32.07174272,
          35.65701043,
          32.07174272,
          28.83168317,
          36.7994429,
          37.59795673,
          35.65701043,
          37.59795673,
          35.65701043,
          41.37175325,
          35.65701043,
          35.63656716,
          35.65701043,
          28.83168317,
          35.65701043,
          26.07290016,
          37.72103862,
          41.66584565,
          37.72103862,
          36.41500766,
          37.72103862,
          35.1037464,
          37.72103862,
          32.42293907,
          37.72103862,
          28.73848684,
          37.72103862,
          26.62714286,
          37.72103862,
          54.04152329,
          37.72103862,
          50.6202765,
          37.72103862,
          49.81284825,
          37.72103862,
          35.08708709,
          37.72103862,
          37.59795673,
          37.72103862,
          41.37175325,
          37.72103862,
          19.79801459,
          41.66584565,
          36.41500766,
          41.66584565,
          35.1037464,
          41.66584565,
          32.42293907,
          41.66584565,
          28.73848684,
          41.66584565,
          26.62714286,
          41.66584565,
          30.87737643,
          41.66584565,
          32.55033064,
          41.66584565,
          40.73825503,
          41.66584565,
          46.96148417,
          41.66584565,
          56.4962963,
          41.66584565,
          55.52479339,
          41.66584565,
          54.04152329,
          41.66584565,
          38.74485597,
          41.66584565,
          47.89340813,
          41.66584565,
          50.6202765,
          41.66584565,
          41.1574344,
          41.66584565,
          49.81284825,
          41.66584565,
          35.08708709,
          41.66584565,
          37.59795673,
          41.66584565,
          41.37175325,
          41.66584565,
          31.90035587,
          41.66584565,
          19.79801459,
          36.41500766,
          35.1037464,
          36.41500766,
          32.42293907,
          36.41500766,
          28.73848684,
          36.41500766,
          26.62714286,
          36.41500766,
          30.87737643,
          36.41500766,
          32.55033064,
          36.41500766,
          37.80877743,
          36.41500766,
          40.73825503,
          36.41500766,
          46.96148417,
          36.41500766,
          56.4962963,
          36.41500766,
          55.52479339,
          36.41500766,
          54.04152329,
          36.41500766,
          38.74485597,
          36.41500766,
          50.6202765,
          36.41500766,
          54.88235294,
          36.41500766,
          49.81284825,
          36.41500766,
          53.52914798,
          36.41500766,
          35.08708709,
          35.1037464,
          32.42293907,
          35.1037464,
          28.73848684,
          35.1037464,
          26.62714286,
          35.1037464,
          40.73825503,
          35.1037464,
          55.52479339,
          35.1037464,
          54.04152329,
          35.1037464,
          50.6202765,
          32.42293907,
          28.73848684,
          32.42293907,
          38.74485597,
          32.42293907,
          19.79801459,
          28.73848684,
          26.62714286,
          28.73848684,
          41.1574344,
          28.73848684,
          49.81284825,
          28.73848684,
          46.47143825,
          28.73848684,
          50.35595521,
          28.73848684,
          24.54548587,
          28.73848684,
          26.02091255,
          28.73848684,
          19.65841584,
          28.73848684,
          26.48835662,
          28.73848684,
          34.5794702,
          28.73848684,
          32.41358176,
          28.73848684,
          35.08708709,
          28.73848684,
          19.79801459,
          26.62714286,
          23.16364753,
          26.62714286,
          35.08708709,
          30.87737643,
          32.55033064,
          30.87737643,
          37.80877743,
          30.87737643,
          46.96148417,
          30.87737643,
          56.4962963,
          32.55033064,
          46.96148417,
          37.80877743,
          46.96148417,
          40.73825503,
          56.4962963,
          40.73825503,
          35.08708709,
          46.96148417,
          56.4962963,
          46.96148417,
          55.52479339,
          56.4962963,
          55.52479339,
          56.4962963,
          54.04152329,
          56.4962963,
          59.49183303,
          55.52479339,
          54.04152329,
          55.52479339,
          47.89340813,
          55.52479339,
          35.08708709,
          54.04152329,
          59.49183303,
          54.04152329,
          50.6202765,
          54.04152329,
          54.88235294,
          54.04152329,
          49.81284825,
          54.04152329,
          53.52914798,
          54.04152329,
          35.08708709,
          59.49183303,
          54.88235294,
          59.49183303,
          49.81284825,
          59.49183303,
          53.52914798,
          38.74485597,
          41.37175325,
          47.89340813,
          41.37175325,
          50.6202765,
          49.81284825,
          41.1574344,
          50.35595521,
          49.81284825,
          53.52914798,
          49.81284825,
          46.47143825,
          53.52914798,
          50.35595521,
          53.52914798,
          34.89776358,
          53.52914798,
          35.08708709,
          46.47143825,
          32.39803922,
          46.47143825,
          29.26360393,
          46.47143825,
          24.54548587,
          46.47143825,
          34.5794702,
          46.47143825,
          35.08708709,
          50.35595521,
          32.39803922,
          34.89776358,
          32.39803922,
          32.39803922,
          29.26360393,
          32.39803922,
          24.54548587,
          24.54548587,
          35.08708709,
          23.16364753,
          26.48835662,
          23.16364753,
          34.5794702,
          23.16364753,
          35.08708709,
          34.5794702,
          32.41358176,
          34.5794702,
          35.08708709,
          32.41358176,
          35.08708709,
          37.59795673,
          41.37175325,
          37.59795673,
          35.63656716,
          37.59795673,
          34.30673317,
          37.59795673,
          31.90035587,
          37.59795673,
          28.83168317,
          37.59795673,
          26.07290016,
          37.59795673,
          19.79801459,
          41.37175325,
          35.63656716,
          41.37175325,
          34.30673317,
          41.37175325,
          31.90035587,
          41.37175325,
          28.83168317,
          35.63656716,
          34.30673317,
          35.63656716,
          31.90035587,
          35.63656716,
          28.83168317,
          35.63656716,
          26.07290016,
          34.30673317,
          31.90035587,
          34.30673317,
          28.83168317,
          34.30673317,
          26.07290016,
          31.90035587,
          28.83168317,
          31.90035587,
          19.79801459,
          28.83168317,
          26.07290016,
          28.83168317,
          19.79801459
         ]
        }
       ],
       "layout": {
        "annotations": [
         {
          "font": {
           "color": "black",
           "size": 12
          },
          "showarrow": false,
          "text": "frontal",
          "x": 0.95,
          "xref": "paper",
          "y": 0.9285714285714286,
          "yref": "paper"
         },
         {
          "bgcolor": "rgba(255, 0, 0, 1.0)",
          "height": 10,
          "showarrow": false,
          "text": "",
          "width": 10,
          "x": 0.97,
          "xref": "paper",
          "y": 0.9285714285714286,
          "yref": "paper"
         },
         {
          "font": {
           "color": "black",
           "size": 12
          },
          "showarrow": false,
          "text": "parietal",
          "x": 0.95,
          "xref": "paper",
          "y": 0.7857142857142857,
          "yref": "paper"
         },
         {
          "bgcolor": "rgba(255, 165, 0, 1.0)",
          "height": 10,
          "showarrow": false,
          "text": "",
          "width": 10,
          "x": 0.97,
          "xref": "paper",
          "y": 0.7857142857142857,
          "yref": "paper"
         },
         {
          "font": {
           "color": "black",
           "size": 12
          },
          "showarrow": false,
          "text": "occipital",
          "x": 0.95,
          "xref": "paper",
          "y": 0.6428571428571428,
          "yref": "paper"
         },
         {
          "bgcolor": "rgba(173, 255, 45, 1.0)",
          "height": 10,
          "showarrow": false,
          "text": "",
          "width": 10,
          "x": 0.97,
          "xref": "paper",
          "y": 0.6428571428571428,
          "yref": "paper"
         },
         {
          "font": {
           "color": "black",
           "size": 12
          },
          "showarrow": false,
          "text": "temporal",
          "x": 0.95,
          "xref": "paper",
          "y": 0.5,
          "yref": "paper"
         },
         {
          "bgcolor": "rgba(0, 191, 255, 1.0)",
          "height": 10,
          "showarrow": false,
          "text": "",
          "width": 10,
          "x": 0.97,
          "xref": "paper",
          "y": 0.5,
          "yref": "paper"
         },
         {
          "font": {
           "color": "black",
           "size": 12
          },
          "showarrow": false,
          "text": "limbic",
          "x": 0.95,
          "xref": "paper",
          "y": 0.3571428571428571,
          "yref": "paper"
         },
         {
          "bgcolor": "rgba(30, 142, 255, 1.0)",
          "height": 10,
          "showarrow": false,
          "text": "",
          "width": 10,
          "x": 0.97,
          "xref": "paper",
          "y": 0.3571428571428571,
          "yref": "paper"
         },
         {
          "font": {
           "color": "black",
           "size": 12
          },
          "showarrow": false,
          "text": "basal_ganglia",
          "x": 0.95,
          "xref": "paper",
          "y": 0.2142857142857143,
          "yref": "paper"
         },
         {
          "bgcolor": "rgba(0, 0, 255, 1.0)",
          "height": 10,
          "showarrow": false,
          "text": "",
          "width": 10,
          "x": 0.97,
          "xref": "paper",
          "y": 0.2142857142857143,
          "yref": "paper"
         },
         {
          "font": {
           "color": "black",
           "size": 12
          },
          "showarrow": false,
          "text": "brain_stem",
          "x": 0.95,
          "xref": "paper",
          "y": 0.0714285714285714,
          "yref": "paper"
         },
         {
          "bgcolor": "rgba(0, 0, 0, 1.0)",
          "height": 10,
          "showarrow": false,
          "text": "",
          "width": 10,
          "x": 0.97,
          "xref": "paper",
          "y": 0.0714285714285714,
          "yref": "paper"
         }
        ],
        "height": 800,
        "margin": {
         "b": 10,
         "l": 10,
         "r": 10,
         "t": 10
        },
        "scene": {
         "camera": {
          "center": {
           "x": 0,
           "y": 0,
           "z": 0
          },
          "eye": {
           "x": -0.9,
           "y": -0.9,
           "z": 0.9
          },
          "up": {
           "x": 0,
           "y": 0,
           "z": 1
          }
         },
         "xaxis": {
          "visible": false
         },
         "yaxis": {
          "visible": false
         },
         "zaxis": {
          "visible": false
         }
        },
        "template": {
         "data": {
          "bar": [
           {
            "error_x": {
             "color": "#2a3f5f"
            },
            "error_y": {
             "color": "#2a3f5f"
            },
            "marker": {
             "line": {
              "color": "#E5ECF6",
              "width": 0.5
             },
             "pattern": {
              "fillmode": "overlay",
              "size": 10,
              "solidity": 0.2
             }
            },
            "type": "bar"
           }
          ],
          "barpolar": [
           {
            "marker": {
             "line": {
              "color": "#E5ECF6",
              "width": 0.5
             },
             "pattern": {
              "fillmode": "overlay",
              "size": 10,
              "solidity": 0.2
             }
            },
            "type": "barpolar"
           }
          ],
          "carpet": [
           {
            "aaxis": {
             "endlinecolor": "#2a3f5f",
             "gridcolor": "white",
             "linecolor": "white",
             "minorgridcolor": "white",
             "startlinecolor": "#2a3f5f"
            },
            "baxis": {
             "endlinecolor": "#2a3f5f",
             "gridcolor": "white",
             "linecolor": "white",
             "minorgridcolor": "white",
             "startlinecolor": "#2a3f5f"
            },
            "type": "carpet"
           }
          ],
          "choropleth": [
           {
            "colorbar": {
             "outlinewidth": 0,
             "ticks": ""
            },
            "type": "choropleth"
           }
          ],
          "contour": [
           {
            "colorbar": {
             "outlinewidth": 0,
             "ticks": ""
            },
            "colorscale": [
             [
              0,
              "#0d0887"
             ],
             [
              0.1111111111111111,
              "#46039f"
             ],
             [
              0.2222222222222222,
              "#7201a8"
             ],
             [
              0.3333333333333333,
              "#9c179e"
             ],
             [
              0.4444444444444444,
              "#bd3786"
             ],
             [
              0.5555555555555556,
              "#d8576b"
             ],
             [
              0.6666666666666666,
              "#ed7953"
             ],
             [
              0.7777777777777778,
              "#fb9f3a"
             ],
             [
              0.8888888888888888,
              "#fdca26"
             ],
             [
              1,
              "#f0f921"
             ]
            ],
            "type": "contour"
           }
          ],
          "contourcarpet": [
           {
            "colorbar": {
             "outlinewidth": 0,
             "ticks": ""
            },
            "type": "contourcarpet"
           }
          ],
          "heatmap": [
           {
            "colorbar": {
             "outlinewidth": 0,
             "ticks": ""
            },
            "colorscale": [
             [
              0,
              "#0d0887"
             ],
             [
              0.1111111111111111,
              "#46039f"
             ],
             [
              0.2222222222222222,
              "#7201a8"
             ],
             [
              0.3333333333333333,
              "#9c179e"
             ],
             [
              0.4444444444444444,
              "#bd3786"
             ],
             [
              0.5555555555555556,
              "#d8576b"
             ],
             [
              0.6666666666666666,
              "#ed7953"
             ],
             [
              0.7777777777777778,
              "#fb9f3a"
             ],
             [
              0.8888888888888888,
              "#fdca26"
             ],
             [
              1,
              "#f0f921"
             ]
            ],
            "type": "heatmap"
           }
          ],
          "heatmapgl": [
           {
            "colorbar": {
             "outlinewidth": 0,
             "ticks": ""
            },
            "colorscale": [
             [
              0,
              "#0d0887"
             ],
             [
              0.1111111111111111,
              "#46039f"
             ],
             [
              0.2222222222222222,
              "#7201a8"
             ],
             [
              0.3333333333333333,
              "#9c179e"
             ],
             [
              0.4444444444444444,
              "#bd3786"
             ],
             [
              0.5555555555555556,
              "#d8576b"
             ],
             [
              0.6666666666666666,
              "#ed7953"
             ],
             [
              0.7777777777777778,
              "#fb9f3a"
             ],
             [
              0.8888888888888888,
              "#fdca26"
             ],
             [
              1,
              "#f0f921"
             ]
            ],
            "type": "heatmapgl"
           }
          ],
          "histogram": [
           {
            "marker": {
             "pattern": {
              "fillmode": "overlay",
              "size": 10,
              "solidity": 0.2
             }
            },
            "type": "histogram"
           }
          ],
          "histogram2d": [
           {
            "colorbar": {
             "outlinewidth": 0,
             "ticks": ""
            },
            "colorscale": [
             [
              0,
              "#0d0887"
             ],
             [
              0.1111111111111111,
              "#46039f"
             ],
             [
              0.2222222222222222,
              "#7201a8"
             ],
             [
              0.3333333333333333,
              "#9c179e"
             ],
             [
              0.4444444444444444,
              "#bd3786"
             ],
             [
              0.5555555555555556,
              "#d8576b"
             ],
             [
              0.6666666666666666,
              "#ed7953"
             ],
             [
              0.7777777777777778,
              "#fb9f3a"
             ],
             [
              0.8888888888888888,
              "#fdca26"
             ],
             [
              1,
              "#f0f921"
             ]
            ],
            "type": "histogram2d"
           }
          ],
          "histogram2dcontour": [
           {
            "colorbar": {
             "outlinewidth": 0,
             "ticks": ""
            },
            "colorscale": [
             [
              0,
              "#0d0887"
             ],
             [
              0.1111111111111111,
              "#46039f"
             ],
             [
              0.2222222222222222,
              "#7201a8"
             ],
             [
              0.3333333333333333,
              "#9c179e"
             ],
             [
              0.4444444444444444,
              "#bd3786"
             ],
             [
              0.5555555555555556,
              "#d8576b"
             ],
             [
              0.6666666666666666,
              "#ed7953"
             ],
             [
              0.7777777777777778,
              "#fb9f3a"
             ],
             [
              0.8888888888888888,
              "#fdca26"
             ],
             [
              1,
              "#f0f921"
             ]
            ],
            "type": "histogram2dcontour"
           }
          ],
          "mesh3d": [
           {
            "colorbar": {
             "outlinewidth": 0,
             "ticks": ""
            },
            "type": "mesh3d"
           }
          ],
          "parcoords": [
           {
            "line": {
             "colorbar": {
              "outlinewidth": 0,
              "ticks": ""
             }
            },
            "type": "parcoords"
           }
          ],
          "pie": [
           {
            "automargin": true,
            "type": "pie"
           }
          ],
          "scatter": [
           {
            "fillpattern": {
             "fillmode": "overlay",
             "size": 10,
             "solidity": 0.2
            },
            "type": "scatter"
           }
          ],
          "scatter3d": [
           {
            "line": {
             "colorbar": {
              "outlinewidth": 0,
              "ticks": ""
             }
            },
            "marker": {
             "colorbar": {
              "outlinewidth": 0,
              "ticks": ""
             }
            },
            "type": "scatter3d"
           }
          ],
          "scattercarpet": [
           {
            "marker": {
             "colorbar": {
              "outlinewidth": 0,
              "ticks": ""
             }
            },
            "type": "scattercarpet"
           }
          ],
          "scattergeo": [
           {
            "marker": {
             "colorbar": {
              "outlinewidth": 0,
              "ticks": ""
             }
            },
            "type": "scattergeo"
           }
          ],
          "scattergl": [
           {
            "marker": {
             "colorbar": {
              "outlinewidth": 0,
              "ticks": ""
             }
            },
            "type": "scattergl"
           }
          ],
          "scattermapbox": [
           {
            "marker": {
             "colorbar": {
              "outlinewidth": 0,
              "ticks": ""
             }
            },
            "type": "scattermapbox"
           }
          ],
          "scatterpolar": [
           {
            "marker": {
             "colorbar": {
              "outlinewidth": 0,
              "ticks": ""
             }
            },
            "type": "scatterpolar"
           }
          ],
          "scatterpolargl": [
           {
            "marker": {
             "colorbar": {
              "outlinewidth": 0,
              "ticks": ""
             }
            },
            "type": "scatterpolargl"
           }
          ],
          "scatterternary": [
           {
            "marker": {
             "colorbar": {
              "outlinewidth": 0,
              "ticks": ""
             }
            },
            "type": "scatterternary"
           }
          ],
          "surface": [
           {
            "colorbar": {
             "outlinewidth": 0,
             "ticks": ""
            },
            "colorscale": [
             [
              0,
              "#0d0887"
             ],
             [
              0.1111111111111111,
              "#46039f"
             ],
             [
              0.2222222222222222,
              "#7201a8"
             ],
             [
              0.3333333333333333,
              "#9c179e"
             ],
             [
              0.4444444444444444,
              "#bd3786"
             ],
             [
              0.5555555555555556,
              "#d8576b"
             ],
             [
              0.6666666666666666,
              "#ed7953"
             ],
             [
              0.7777777777777778,
              "#fb9f3a"
             ],
             [
              0.8888888888888888,
              "#fdca26"
             ],
             [
              1,
              "#f0f921"
             ]
            ],
            "type": "surface"
           }
          ],
          "table": [
           {
            "cells": {
             "fill": {
              "color": "#EBF0F8"
             },
             "line": {
              "color": "white"
             }
            },
            "header": {
             "fill": {
              "color": "#C8D4E3"
             },
             "line": {
              "color": "white"
             }
            },
            "type": "table"
           }
          ]
         },
         "layout": {
          "annotationdefaults": {
           "arrowcolor": "#2a3f5f",
           "arrowhead": 0,
           "arrowwidth": 1
          },
          "autotypenumbers": "strict",
          "coloraxis": {
           "colorbar": {
            "outlinewidth": 0,
            "ticks": ""
           }
          },
          "colorscale": {
           "diverging": [
            [
             0,
             "#8e0152"
            ],
            [
             0.1,
             "#c51b7d"
            ],
            [
             0.2,
             "#de77ae"
            ],
            [
             0.3,
             "#f1b6da"
            ],
            [
             0.4,
             "#fde0ef"
            ],
            [
             0.5,
             "#f7f7f7"
            ],
            [
             0.6,
             "#e6f5d0"
            ],
            [
             0.7,
             "#b8e186"
            ],
            [
             0.8,
             "#7fbc41"
            ],
            [
             0.9,
             "#4d9221"
            ],
            [
             1,
             "#276419"
            ]
           ],
           "sequential": [
            [
             0,
             "#0d0887"
            ],
            [
             0.1111111111111111,
             "#46039f"
            ],
            [
             0.2222222222222222,
             "#7201a8"
            ],
            [
             0.3333333333333333,
             "#9c179e"
            ],
            [
             0.4444444444444444,
             "#bd3786"
            ],
            [
             0.5555555555555556,
             "#d8576b"
            ],
            [
             0.6666666666666666,
             "#ed7953"
            ],
            [
             0.7777777777777778,
             "#fb9f3a"
            ],
            [
             0.8888888888888888,
             "#fdca26"
            ],
            [
             1,
             "#f0f921"
            ]
           ],
           "sequentialminus": [
            [
             0,
             "#0d0887"
            ],
            [
             0.1111111111111111,
             "#46039f"
            ],
            [
             0.2222222222222222,
             "#7201a8"
            ],
            [
             0.3333333333333333,
             "#9c179e"
            ],
            [
             0.4444444444444444,
             "#bd3786"
            ],
            [
             0.5555555555555556,
             "#d8576b"
            ],
            [
             0.6666666666666666,
             "#ed7953"
            ],
            [
             0.7777777777777778,
             "#fb9f3a"
            ],
            [
             0.8888888888888888,
             "#fdca26"
            ],
            [
             1,
             "#f0f921"
            ]
           ]
          },
          "colorway": [
           "#636efa",
           "#EF553B",
           "#00cc96",
           "#ab63fa",
           "#FFA15A",
           "#19d3f3",
           "#FF6692",
           "#B6E880",
           "#FF97FF",
           "#FECB52"
          ],
          "font": {
           "color": "#2a3f5f"
          },
          "geo": {
           "bgcolor": "white",
           "lakecolor": "white",
           "landcolor": "#E5ECF6",
           "showlakes": true,
           "showland": true,
           "subunitcolor": "white"
          },
          "hoverlabel": {
           "align": "left"
          },
          "hovermode": "closest",
          "mapbox": {
           "style": "light"
          },
          "paper_bgcolor": "white",
          "plot_bgcolor": "#E5ECF6",
          "polar": {
           "angularaxis": {
            "gridcolor": "white",
            "linecolor": "white",
            "ticks": ""
           },
           "bgcolor": "#E5ECF6",
           "radialaxis": {
            "gridcolor": "white",
            "linecolor": "white",
            "ticks": ""
           }
          },
          "scene": {
           "xaxis": {
            "backgroundcolor": "#E5ECF6",
            "gridcolor": "white",
            "gridwidth": 2,
            "linecolor": "white",
            "showbackground": true,
            "ticks": "",
            "zerolinecolor": "white"
           },
           "yaxis": {
            "backgroundcolor": "#E5ECF6",
            "gridcolor": "white",
            "gridwidth": 2,
            "linecolor": "white",
            "showbackground": true,
            "ticks": "",
            "zerolinecolor": "white"
           },
           "zaxis": {
            "backgroundcolor": "#E5ECF6",
            "gridcolor": "white",
            "gridwidth": 2,
            "linecolor": "white",
            "showbackground": true,
            "ticks": "",
            "zerolinecolor": "white"
           }
          },
          "shapedefaults": {
           "line": {
            "color": "#2a3f5f"
           }
          },
          "ternary": {
           "aaxis": {
            "gridcolor": "white",
            "linecolor": "white",
            "ticks": ""
           },
           "baxis": {
            "gridcolor": "white",
            "linecolor": "white",
            "ticks": ""
           },
           "bgcolor": "#E5ECF6",
           "caxis": {
            "gridcolor": "white",
            "linecolor": "white",
            "ticks": ""
           }
          },
          "title": {
           "x": 0.05
          },
          "xaxis": {
           "automargin": true,
           "gridcolor": "white",
           "linecolor": "white",
           "ticks": "",
           "title": {
            "standoff": 15
           },
           "zerolinecolor": "white",
           "zerolinewidth": 2
          },
          "yaxis": {
           "automargin": true,
           "gridcolor": "white",
           "linecolor": "white",
           "ticks": "",
           "title": {
            "standoff": 15
           },
           "zerolinecolor": "white",
           "zerolinewidth": 2
          }
         }
        },
        "width": 1200
       }
      }
     },
     "metadata": {},
     "output_type": "display_data"
    }
   ],
   "source": [
    "import pandas as pd\n",
    "import networkx as nx\n",
    "import os\n",
    "import numpy as np\n",
    "import plotly.graph_objects as go\n",
    "\n",
    "current_dir = os.getcwd()\n",
    "Nodes_file_path = os.path.join(current_dir, 'data','Categorized_Brain_Nodes_new.csv')\n",
    "node_data = pd.read_csv(Nodes_file_path)\n",
    "connections = pd.read_csv('sorted_region_connections.csv', index_col=0)\n",
    "G = nx.Graph()\n",
    "\n",
    "#Add nodes and node attributes\n",
    "for idx, row in node_data.iterrows():\n",
    "    G.add_node(row['Region'], pos=(row['X'], row['Y'], row['Z']), label=row['Super_Region'])\n",
    "\n",
    "#Add edge\n",
    "for i, row in connections.iterrows():\n",
    "    for j, value in row.items():\n",
    "        # Only add connections that exist and are not self-looping\n",
    "        if value > 0 and i!= j:  \n",
    "            G.add_edge(i, j, weight=value)\n",
    "\n",
    "# Define label to color mapping\n",
    "label_colors = {\n",
    "    'frontal': (1.0, 0.0, 0.0),         \n",
    "    'parietal': (1.0, 0.65, 0.0),       \n",
    "    'occipital': (0.68, 1.0, 0.18),     \n",
    "    'temporal': (0.0, 0.75, 1.0),       \n",
    "    'limbic': (0.12, 0.56, 1.0),        \n",
    "    'basal_ganglia': (0.0, 0.0, 1.0),   \n",
    "    'brain_stem': (0.0, 0.0, 0.0)       \n",
    "}\n",
    "\n",
    "# Create a node color list using label to color mapping\n",
    "node_colors = [label_colors[G.nodes[node]['label']] for node in G.nodes()]\n",
    "\n",
    "pos = {node: (G.nodes[node]['pos'][0], G.nodes[node]['pos'][1], G.nodes[node]['pos'][2]) for node in G.nodes()}  # 使用x, y, z位置信息\n",
    "\n",
    "# Create a 3D scatter plot for nodes\n",
    "node_xyz = np.array([pos[node] for node in G.nodes()])\n",
    "\n",
    "node_trace = go.Scatter3d(\n",
    "    x=node_xyz[:, 0],\n",
    "    y=node_xyz[:, 1],\n",
    "    z=node_xyz[:, 2],\n",
    "    mode='markers',\n",
    "    marker=dict(\n",
    "        size=8,\n",
    "        color=node_colors,  \n",
    "        opacity=0.9\n",
    "    ),\n",
    "    hoverinfo='text',\n",
    "    text=[f\"{node} ({G.nodes[node]['label']})\" for node in G.nodes()],\n",
    "    name=None  \n",
    ")\n",
    "\n",
    "\n",
    "# Add labels and color annotations\n",
    "labels = list(set(node_data['Super_Region']))\n",
    "# Add labels and color annotations\n",
    "color_annotations = []\n",
    "for idx, (label, color) in enumerate(label_colors.items()):\n",
    "    # Convert the RGB value of the color to a floating point number between 0 and 1\n",
    "    r = min(1, max(0, color[0]))  \n",
    "    g = min(1, max(0, color[1]))  \n",
    "    b = min(1, max(0, color[2]))  \n",
    "    color_str = \"rgba({}, {}, {}, 1.0)\".format(int(r*255), int(g*255), int(b*255))\n",
    "    # Calculate the y coordinate of the label\n",
    "    label_y = 1 - ((idx + 0.5) / len(label_colors))\n",
    "    #Add label text\n",
    "    color_annotations.append(dict(\n",
    "        xref=\"paper\",\n",
    "        yref=\"paper\",\n",
    "        x=0.95,\n",
    "        y=label_y,\n",
    "        text=f\"{label}\",\n",
    "        font=dict(size=12, color=\"black\"),\n",
    "        showarrow=False\n",
    "    ))\n",
    "    #Add color bar\n",
    "    color_annotations.append(dict(\n",
    "        xref=\"paper\",\n",
    "        yref=\"paper\",\n",
    "        x=0.97,\n",
    "        y=label_y,\n",
    "        text='',\n",
    "        bgcolor=color_str,\n",
    "        showarrow=False,\n",
    "        width=10,\n",
    "        height=10,\n",
    "    ))\n",
    "\n",
    "# Create a 3D line plot for edges\n",
    "edge_xyz = []\n",
    "for edge in G.edges():\n",
    "    edge_xyz.extend([pos[edge[0]], pos[edge[1]]])\n",
    "edge_xyz = np.array(edge_xyz)\n",
    "edge_trace = go.Scatter3d(\n",
    "    x=edge_xyz[:, 0],\n",
    "    y=edge_xyz[:, 1],\n",
    "    z=edge_xyz[:, 2],\n",
    "    mode='lines',\n",
    "    line=dict(color='gray', width=0.5),\n",
    "    hoverinfo='none'\n",
    ")\n",
    "\n",
    "# Create the 3D plot\n",
    "fig = go.Figure(data=[node_trace, edge_trace])\n",
    "fig.update_layout(\n",
    "    width=1200,\n",
    "    height=800, \n",
    "    scene=dict(\n",
    "        camera=dict(\n",
    "            eye=dict(x=-0.9, y=-0.9, z=0.9),  # Set the initial viewing position\n",
    "            center=dict(x=0, y=0, z=0),         # Set the center of the view\n",
    "            up=dict(x=0, y=0, z=1),             # Set the up direction\n",
    "        ),\n",
    "        xaxis=dict(visible=False),\n",
    "        yaxis=dict(visible=False),\n",
    "        zaxis=dict(visible=False)\n",
    "    ),\n",
    "    margin=dict(r=10, l=10, b=10, t=10),\n",
    "    annotations=color_annotations\n",
    ")\n",
    "\n",
    "\n",
    "\n",
    "# Show the plot\n",
    "fig.show()"
   ]
  },
  {
   "cell_type": "markdown",
   "metadata": {},
   "source": [
    "![Optional Title](Fig01.png)\n"
   ]
  },
  {
   "cell_type": "markdown",
   "metadata": {},
   "source": []
  }
 ],
 "metadata": {
  "kernelspec": {
   "display_name": "base",
   "language": "python",
   "name": "python3"
  },
  "language_info": {
   "codemirror_mode": {
    "name": "ipython",
    "version": 3
   },
   "file_extension": ".py",
   "mimetype": "text/x-python",
   "name": "python",
   "nbconvert_exporter": "python",
   "pygments_lexer": "ipython3",
   "version": "3.12.2"
  }
 },
 "nbformat": 4,
 "nbformat_minor": 2
}
